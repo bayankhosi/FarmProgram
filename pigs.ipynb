{
 "cells": [
  {
   "cell_type": "markdown",
   "metadata": {},
   "source": [
    "## Importing Libraries"
   ]
  },
  {
   "cell_type": "code",
   "execution_count": 7,
   "metadata": {},
   "outputs": [],
   "source": [
    "import numpy as np\n",
    "import pandas as pd\n",
    "\n",
    "from sklearn.model_selection import train_test_split\n",
    "from scipy import stats\n",
    "from plotly import express as px\n",
    "import matplotlib.pyplot as plt\n",
    "import seaborn as sns\n",
    "\n",
    "import datetime as dt\n",
    "\n",
    "today = dt.datetime.today()"
   ]
  },
  {
   "cell_type": "markdown",
   "metadata": {},
   "source": [
    "## Importing the Tables"
   ]
  },
  {
   "cell_type": "code",
   "execution_count": 8,
   "metadata": {},
   "outputs": [],
   "source": [
    "df = pd.read_excel('./Files/spread.xlsx', \n",
    "                   sheet_name= 'individual',\n",
    "                   index_col=0).drop([9, 'purchase_price', 'sale_price', 'purchase_date'], axis=1)\n",
    "\n",
    "df_month = pd.read_excel('./Files/spread.xlsx', \n",
    "                         sheet_name= '2021',\n",
    "                         index_col=0)"
   ]
  },
  {
   "cell_type": "code",
   "execution_count": 9,
   "metadata": {},
   "outputs": [
    {
     "data": {
      "text/html": [
       "<div>\n",
       "<style scoped>\n",
       "    .dataframe tbody tr th:only-of-type {\n",
       "        vertical-align: middle;\n",
       "    }\n",
       "\n",
       "    .dataframe tbody tr th {\n",
       "        vertical-align: top;\n",
       "    }\n",
       "\n",
       "    .dataframe thead th {\n",
       "        text-align: right;\n",
       "    }\n",
       "</style>\n",
       "<table border=\"1\" class=\"dataframe\">\n",
       "  <thead>\n",
       "    <tr style=\"text-align: right;\">\n",
       "      <th></th>\n",
       "      <th>birth_date</th>\n",
       "      <th>slaughter_date</th>\n",
       "      <th>slaughter_weight</th>\n",
       "      <th>slaughter_age</th>\n",
       "      <th>breed</th>\n",
       "      <th>meds</th>\n",
       "      <th>feed_eaten</th>\n",
       "      <th>sex</th>\n",
       "    </tr>\n",
       "    <tr>\n",
       "      <th>ID</th>\n",
       "      <th></th>\n",
       "      <th></th>\n",
       "      <th></th>\n",
       "      <th></th>\n",
       "      <th></th>\n",
       "      <th></th>\n",
       "      <th></th>\n",
       "      <th></th>\n",
       "    </tr>\n",
       "  </thead>\n",
       "  <tbody>\n",
       "    <tr>\n",
       "      <th>1</th>\n",
       "      <td>2020-11-06</td>\n",
       "      <td>2021-03-14</td>\n",
       "      <td>53.75</td>\n",
       "      <td>128.0</td>\n",
       "      <td>1</td>\n",
       "      <td>10</td>\n",
       "      <td>115.0</td>\n",
       "      <td>0</td>\n",
       "    </tr>\n",
       "    <tr>\n",
       "      <th>2</th>\n",
       "      <td>2021-02-20</td>\n",
       "      <td>2021-06-27</td>\n",
       "      <td>54.00</td>\n",
       "      <td>127.0</td>\n",
       "      <td>0</td>\n",
       "      <td>10</td>\n",
       "      <td>110.0</td>\n",
       "      <td>1</td>\n",
       "    </tr>\n",
       "    <tr>\n",
       "      <th>3</th>\n",
       "      <td>2021-02-20</td>\n",
       "      <td>2021-07-17</td>\n",
       "      <td>56.00</td>\n",
       "      <td>149.0</td>\n",
       "      <td>0</td>\n",
       "      <td>30</td>\n",
       "      <td>110.0</td>\n",
       "      <td>1</td>\n",
       "    </tr>\n",
       "    <tr>\n",
       "      <th>4</th>\n",
       "      <td>2021-05-07</td>\n",
       "      <td>2021-08-31</td>\n",
       "      <td>58.00</td>\n",
       "      <td>114.0</td>\n",
       "      <td>2</td>\n",
       "      <td>0</td>\n",
       "      <td>108.0</td>\n",
       "      <td>1</td>\n",
       "    </tr>\n",
       "    <tr>\n",
       "      <th>5</th>\n",
       "      <td>2021-05-07</td>\n",
       "      <td>2021-09-06</td>\n",
       "      <td>59.00</td>\n",
       "      <td>122.0</td>\n",
       "      <td>2</td>\n",
       "      <td>0</td>\n",
       "      <td>108.0</td>\n",
       "      <td>1</td>\n",
       "    </tr>\n",
       "    <tr>\n",
       "      <th>6</th>\n",
       "      <td>2021-06-21</td>\n",
       "      <td>2021-10-02</td>\n",
       "      <td>39.00</td>\n",
       "      <td>105.0</td>\n",
       "      <td>1</td>\n",
       "      <td>10</td>\n",
       "      <td>62.5</td>\n",
       "      <td>0</td>\n",
       "    </tr>\n",
       "    <tr>\n",
       "      <th>7</th>\n",
       "      <td>2021-06-21</td>\n",
       "      <td>2021-10-06</td>\n",
       "      <td>40.00</td>\n",
       "      <td>110.0</td>\n",
       "      <td>1</td>\n",
       "      <td>10</td>\n",
       "      <td>62.5</td>\n",
       "      <td>1</td>\n",
       "    </tr>\n",
       "    <tr>\n",
       "      <th>8</th>\n",
       "      <td>2021-06-21</td>\n",
       "      <td>NaT</td>\n",
       "      <td>NaN</td>\n",
       "      <td>NaN</td>\n",
       "      <td>1</td>\n",
       "      <td>10</td>\n",
       "      <td>0.0</td>\n",
       "      <td>1</td>\n",
       "    </tr>\n",
       "    <tr>\n",
       "      <th>9</th>\n",
       "      <td>2021-06-21</td>\n",
       "      <td>NaT</td>\n",
       "      <td>NaN</td>\n",
       "      <td>NaN</td>\n",
       "      <td>1</td>\n",
       "      <td>40</td>\n",
       "      <td>0.0</td>\n",
       "      <td>1</td>\n",
       "    </tr>\n",
       "  </tbody>\n",
       "</table>\n",
       "</div>"
      ],
      "text/plain": [
       "   birth_date slaughter_date  slaughter_weight  slaughter_age  breed  meds  \\\n",
       "ID                                                                           \n",
       "1  2020-11-06     2021-03-14             53.75          128.0      1    10   \n",
       "2  2021-02-20     2021-06-27             54.00          127.0      0    10   \n",
       "3  2021-02-20     2021-07-17             56.00          149.0      0    30   \n",
       "4  2021-05-07     2021-08-31             58.00          114.0      2     0   \n",
       "5  2021-05-07     2021-09-06             59.00          122.0      2     0   \n",
       "6  2021-06-21     2021-10-02             39.00          105.0      1    10   \n",
       "7  2021-06-21     2021-10-06             40.00          110.0      1    10   \n",
       "8  2021-06-21            NaT               NaN            NaN      1    10   \n",
       "9  2021-06-21            NaT               NaN            NaN      1    40   \n",
       "\n",
       "    feed_eaten  sex  \n",
       "ID                   \n",
       "1        115.0    0  \n",
       "2        110.0    1  \n",
       "3        110.0    1  \n",
       "4        108.0    1  \n",
       "5        108.0    1  \n",
       "6         62.5    0  \n",
       "7         62.5    1  \n",
       "8          0.0    1  \n",
       "9          0.0    1  "
      ]
     },
     "execution_count": 9,
     "metadata": {},
     "output_type": "execute_result"
    }
   ],
   "source": [
    "# sorting catagorical values\n",
    "\n",
    "cat_cols = ['breed']\n",
    "from sklearn.preprocessing import LabelEncoder\n",
    "enc = LabelEncoder()\n",
    "df.loc[:,cat_cols] = df.loc[:,cat_cols].apply(enc.fit_transform)\n",
    "\n",
    "df"
   ]
  },
  {
   "cell_type": "code",
   "execution_count": 10,
   "metadata": {},
   "outputs": [
    {
     "data": {
      "text/html": [
       "<div>\n",
       "<style scoped>\n",
       "    .dataframe tbody tr th:only-of-type {\n",
       "        vertical-align: middle;\n",
       "    }\n",
       "\n",
       "    .dataframe tbody tr th {\n",
       "        vertical-align: top;\n",
       "    }\n",
       "\n",
       "    .dataframe thead th {\n",
       "        text-align: right;\n",
       "    }\n",
       "</style>\n",
       "<table border=\"1\" class=\"dataframe\">\n",
       "  <thead>\n",
       "    <tr style=\"text-align: right;\">\n",
       "      <th></th>\n",
       "      <th>birth_date</th>\n",
       "      <th>breed</th>\n",
       "      <th>meds</th>\n",
       "      <th>feed_eaten</th>\n",
       "      <th>sex</th>\n",
       "    </tr>\n",
       "    <tr>\n",
       "      <th>ID</th>\n",
       "      <th></th>\n",
       "      <th></th>\n",
       "      <th></th>\n",
       "      <th></th>\n",
       "      <th></th>\n",
       "    </tr>\n",
       "  </thead>\n",
       "  <tbody>\n",
       "    <tr>\n",
       "      <th>8</th>\n",
       "      <td>2021-06-21</td>\n",
       "      <td>1</td>\n",
       "      <td>10</td>\n",
       "      <td>0.0</td>\n",
       "      <td>1</td>\n",
       "    </tr>\n",
       "    <tr>\n",
       "      <th>9</th>\n",
       "      <td>2021-06-21</td>\n",
       "      <td>1</td>\n",
       "      <td>40</td>\n",
       "      <td>0.0</td>\n",
       "      <td>1</td>\n",
       "    </tr>\n",
       "  </tbody>\n",
       "</table>\n",
       "</div>"
      ],
      "text/plain": [
       "   birth_date  breed  meds  feed_eaten  sex\n",
       "ID                                         \n",
       "8  2021-06-21      1    10         0.0    1\n",
       "9  2021-06-21      1    40         0.0    1"
      ]
     },
     "execution_count": 10,
     "metadata": {},
     "output_type": "execute_result"
    }
   ],
   "source": [
    "df_alive = df.loc[df.slaughter_date.isnull()==True]\n",
    "df_alive = df_alive.drop(['slaughter_date', 'slaughter_weight', 'slaughter_age'], axis=1)\n",
    "#df_alive['slaughter_estimate'] = df.birth_date + dt.timedelta(days=99) \n",
    "\n",
    "df_alive"
   ]
  },
  {
   "cell_type": "code",
   "execution_count": 11,
   "metadata": {},
   "outputs": [
    {
     "data": {
      "text/html": [
       "<div>\n",
       "<style scoped>\n",
       "    .dataframe tbody tr th:only-of-type {\n",
       "        vertical-align: middle;\n",
       "    }\n",
       "\n",
       "    .dataframe tbody tr th {\n",
       "        vertical-align: top;\n",
       "    }\n",
       "\n",
       "    .dataframe thead th {\n",
       "        text-align: right;\n",
       "    }\n",
       "</style>\n",
       "<table border=\"1\" class=\"dataframe\">\n",
       "  <thead>\n",
       "    <tr style=\"text-align: right;\">\n",
       "      <th></th>\n",
       "      <th>birth_date</th>\n",
       "      <th>slaughter_date</th>\n",
       "      <th>slaughter_weight</th>\n",
       "      <th>slaughter_age</th>\n",
       "      <th>breed</th>\n",
       "      <th>meds</th>\n",
       "      <th>feed_eaten</th>\n",
       "      <th>sex</th>\n",
       "    </tr>\n",
       "    <tr>\n",
       "      <th>ID</th>\n",
       "      <th></th>\n",
       "      <th></th>\n",
       "      <th></th>\n",
       "      <th></th>\n",
       "      <th></th>\n",
       "      <th></th>\n",
       "      <th></th>\n",
       "      <th></th>\n",
       "    </tr>\n",
       "  </thead>\n",
       "  <tbody>\n",
       "    <tr>\n",
       "      <th>1</th>\n",
       "      <td>2020-11-06</td>\n",
       "      <td>2021-03-14</td>\n",
       "      <td>53.75</td>\n",
       "      <td>128.0</td>\n",
       "      <td>1</td>\n",
       "      <td>10</td>\n",
       "      <td>115.0</td>\n",
       "      <td>0</td>\n",
       "    </tr>\n",
       "    <tr>\n",
       "      <th>2</th>\n",
       "      <td>2021-02-20</td>\n",
       "      <td>2021-06-27</td>\n",
       "      <td>54.00</td>\n",
       "      <td>127.0</td>\n",
       "      <td>0</td>\n",
       "      <td>10</td>\n",
       "      <td>110.0</td>\n",
       "      <td>1</td>\n",
       "    </tr>\n",
       "    <tr>\n",
       "      <th>3</th>\n",
       "      <td>2021-02-20</td>\n",
       "      <td>2021-07-17</td>\n",
       "      <td>56.00</td>\n",
       "      <td>149.0</td>\n",
       "      <td>0</td>\n",
       "      <td>30</td>\n",
       "      <td>110.0</td>\n",
       "      <td>1</td>\n",
       "    </tr>\n",
       "    <tr>\n",
       "      <th>4</th>\n",
       "      <td>2021-05-07</td>\n",
       "      <td>2021-08-31</td>\n",
       "      <td>58.00</td>\n",
       "      <td>114.0</td>\n",
       "      <td>2</td>\n",
       "      <td>0</td>\n",
       "      <td>108.0</td>\n",
       "      <td>1</td>\n",
       "    </tr>\n",
       "    <tr>\n",
       "      <th>5</th>\n",
       "      <td>2021-05-07</td>\n",
       "      <td>2021-09-06</td>\n",
       "      <td>59.00</td>\n",
       "      <td>122.0</td>\n",
       "      <td>2</td>\n",
       "      <td>0</td>\n",
       "      <td>108.0</td>\n",
       "      <td>1</td>\n",
       "    </tr>\n",
       "    <tr>\n",
       "      <th>6</th>\n",
       "      <td>2021-06-21</td>\n",
       "      <td>2021-10-02</td>\n",
       "      <td>39.00</td>\n",
       "      <td>105.0</td>\n",
       "      <td>1</td>\n",
       "      <td>10</td>\n",
       "      <td>62.5</td>\n",
       "      <td>0</td>\n",
       "    </tr>\n",
       "    <tr>\n",
       "      <th>7</th>\n",
       "      <td>2021-06-21</td>\n",
       "      <td>2021-10-06</td>\n",
       "      <td>40.00</td>\n",
       "      <td>110.0</td>\n",
       "      <td>1</td>\n",
       "      <td>10</td>\n",
       "      <td>62.5</td>\n",
       "      <td>1</td>\n",
       "    </tr>\n",
       "  </tbody>\n",
       "</table>\n",
       "</div>"
      ],
      "text/plain": [
       "   birth_date slaughter_date  slaughter_weight  slaughter_age  breed  meds  \\\n",
       "ID                                                                           \n",
       "1  2020-11-06     2021-03-14             53.75          128.0      1    10   \n",
       "2  2021-02-20     2021-06-27             54.00          127.0      0    10   \n",
       "3  2021-02-20     2021-07-17             56.00          149.0      0    30   \n",
       "4  2021-05-07     2021-08-31             58.00          114.0      2     0   \n",
       "5  2021-05-07     2021-09-06             59.00          122.0      2     0   \n",
       "6  2021-06-21     2021-10-02             39.00          105.0      1    10   \n",
       "7  2021-06-21     2021-10-06             40.00          110.0      1    10   \n",
       "\n",
       "    feed_eaten  sex  \n",
       "ID                   \n",
       "1        115.0    0  \n",
       "2        110.0    1  \n",
       "3        110.0    1  \n",
       "4        108.0    1  \n",
       "5        108.0    1  \n",
       "6         62.5    0  \n",
       "7         62.5    1  "
      ]
     },
     "execution_count": 11,
     "metadata": {},
     "output_type": "execute_result"
    }
   ],
   "source": [
    "df_slaughtered = df.loc[df.slaughter_date.isnull()==False]\n",
    "\n",
    "df_slaughtered"
   ]
  },
  {
   "cell_type": "markdown",
   "metadata": {},
   "source": [
    "# Visualization"
   ]
  },
  {
   "cell_type": "markdown",
   "metadata": {},
   "source": [
    "## Mass - age graph"
   ]
  },
  {
   "cell_type": "code",
   "execution_count": 12,
   "metadata": {},
   "outputs": [
    {
     "data": {
      "text/plain": [
       "Text(0.5, 1.0, 'Mass-Age Graph')"
      ]
     },
     "execution_count": 12,
     "metadata": {},
     "output_type": "execute_result"
    },
    {
     "data": {
      "image/png": "[encoded data removed]",
      "text/plain": [
       "<Figure size 432x288 with 1 Axes>"
      ]
     },
     "metadata": {
      "needs_background": "light"
     },
     "output_type": "display_data"
    }
   ],
   "source": [
    "\"\"\" px.scatter(x=df_slaughtered.slaughter_age,\n",
    "        y=df_slaughtered.slaughter_weight,\n",
    "        title='Mass Against Age',\n",
    "        labels={'x':'Age(days)', 'y':'Mass(Kg)'}\n",
    "        ) \"\"\"\n",
    "\n",
    "\"\"\" df_slaughtered.plot(kind= 'scatter',\n",
    "        x= 'slaughter_age',\n",
    "        y= 'slaughter_weight') \"\"\"\n",
    "\n",
    "plt.scatter(x=df_slaughtered.slaughter_age,\n",
    "        y=df_slaughtered.slaughter_weight,\n",
    "        )\n",
    "plt.xlabel(\"Slaughter Age\")\n",
    "plt.ylabel(\"Slaughter Mass\")\n",
    "plt.title(\"Mass-Age Graph\")"
   ]
  },
  {
   "cell_type": "markdown",
   "metadata": {},
   "source": [
    "## correlation and them\n"
   ]
  },
  {
   "cell_type": "code",
   "execution_count": 13,
   "metadata": {},
   "outputs": [
    {
     "data": {
      "text/plain": [
       "4.853077727776141"
      ]
     },
     "execution_count": 13,
     "metadata": {},
     "output_type": "execute_result"
    }
   ],
   "source": [
    "# correlation of age and mass\n",
    "\n",
    "np.cov(df_slaughtered.slaughter_age, df_slaughtered.slaughter_weight)[0,1] / (np.std(df.slaughter_weight[:3], ddof=1) * np.std(df.slaughter_age[:3], ddof=1))\n"
   ]
  },
  {
   "cell_type": "code",
   "execution_count": 14,
   "metadata": {},
   "outputs": [
    {
     "data": {
      "text/plain": [
       "0.9899641382093992"
      ]
     },
     "execution_count": 14,
     "metadata": {},
     "output_type": "execute_result"
    }
   ],
   "source": [
    "# easier way\n",
    "\n",
    "r, p = stats.pearsonr(\n",
    "    df_slaughtered.slaughter_age[:3],\n",
    "    df_slaughtered.slaughter_weight[:3]\n",
    ")\n",
    "corr = df_slaughtered.corr()\n",
    "r # Pearson correlation coefficient"
   ]
  },
  {
   "cell_type": "code",
   "execution_count": 15,
   "metadata": {},
   "outputs": [
    {
     "data": {
      "text/plain": [
       "Text(0.5, 1, 'Correlation Plot')"
      ]
     },
     "execution_count": 15,
     "metadata": {},
     "output_type": "execute_result"
    },
    {
     "data": {
      "image/png": "[encoded data removed]",
      "text/plain": [
       "<Figure size 648x648 with 2 Axes>"
      ]
     },
     "metadata": {
      "needs_background": "light"
     },
     "output_type": "display_data"
    }
   ],
   "source": [
    "plt.figure(figsize=(9,9))\n",
    "p = sns.heatmap(corr, square=True, cmap='plasma')\n",
    "p.set_title('Correlation Plot')"
   ]
  },
  {
   "cell_type": "code",
   "execution_count": null,
   "metadata": {},
   "outputs": [],
   "source": []
  },
  {
   "cell_type": "markdown",
   "metadata": {},
   "source": [
    "## Line of best fit (regression)"
   ]
  },
  {
   "cell_type": "code",
   "execution_count": 16,
   "metadata": {},
   "outputs": [
    {
     "name": "stderr",
     "output_type": "stream",
     "text": [
      "/home/bayanda/.local/lib/python3.8/site-packages/seaborn/_decorators.py:36: FutureWarning: Pass the following variables as keyword args: x, y. From version 0.12, the only valid positional argument will be `data`, and passing other arguments without an explicit keyword will result in an error or misinterpretation.\n",
      "  warnings.warn(\n"
     ]
    },
    {
     "data": {
      "image/png": "[encoded data removed]",
      "text/plain": [
       "<Figure size 432x288 with 1 Axes>"
      ]
     },
     "metadata": {
      "needs_background": "light"
     },
     "output_type": "display_data"
    }
   ],
   "source": [
    "plt = sns.regplot(df_slaughtered.slaughter_age,df_slaughtered.slaughter_weight)"
   ]
  },
  {
   "cell_type": "markdown",
   "metadata": {},
   "source": [
    "# Models"
   ]
  },
  {
   "cell_type": "code",
   "execution_count": 17,
   "metadata": {},
   "outputs": [],
   "source": [
    "df_alive['slaughter_weight'] = 52"
   ]
  },
  {
   "cell_type": "markdown",
   "metadata": {},
   "source": [
    "## scaling"
   ]
  },
  {
   "cell_type": "code",
   "execution_count": 18,
   "metadata": {},
   "outputs": [
    {
     "data": {
      "text/html": [
       "<div>\n",
       "<style scoped>\n",
       "    .dataframe tbody tr th:only-of-type {\n",
       "        vertical-align: middle;\n",
       "    }\n",
       "\n",
       "    .dataframe tbody tr th {\n",
       "        vertical-align: top;\n",
       "    }\n",
       "\n",
       "    .dataframe thead th {\n",
       "        text-align: right;\n",
       "    }\n",
       "</style>\n",
       "<table border=\"1\" class=\"dataframe\">\n",
       "  <thead>\n",
       "    <tr style=\"text-align: right;\">\n",
       "      <th></th>\n",
       "      <th>birth_date</th>\n",
       "      <th>slaughter_date</th>\n",
       "      <th>slaughter_weight</th>\n",
       "      <th>slaughter_age</th>\n",
       "      <th>breed</th>\n",
       "      <th>meds</th>\n",
       "      <th>feed_eaten</th>\n",
       "      <th>sex</th>\n",
       "    </tr>\n",
       "    <tr>\n",
       "      <th>ID</th>\n",
       "      <th></th>\n",
       "      <th></th>\n",
       "      <th></th>\n",
       "      <th></th>\n",
       "      <th></th>\n",
       "      <th></th>\n",
       "      <th></th>\n",
       "      <th></th>\n",
       "    </tr>\n",
       "  </thead>\n",
       "  <tbody>\n",
       "    <tr>\n",
       "      <th>1</th>\n",
       "      <td>2020-11-06</td>\n",
       "      <td>2021-03-14</td>\n",
       "      <td>0.304857</td>\n",
       "      <td>128.0</td>\n",
       "      <td>1</td>\n",
       "      <td>-0.267261</td>\n",
       "      <td>115.0</td>\n",
       "      <td>0</td>\n",
       "    </tr>\n",
       "    <tr>\n",
       "      <th>2</th>\n",
       "      <td>2021-02-20</td>\n",
       "      <td>2021-06-27</td>\n",
       "      <td>0.337191</td>\n",
       "      <td>127.0</td>\n",
       "      <td>0</td>\n",
       "      <td>-0.267261</td>\n",
       "      <td>110.0</td>\n",
       "      <td>1</td>\n",
       "    </tr>\n",
       "    <tr>\n",
       "      <th>3</th>\n",
       "      <td>2021-02-20</td>\n",
       "      <td>2021-07-17</td>\n",
       "      <td>0.595857</td>\n",
       "      <td>149.0</td>\n",
       "      <td>0</td>\n",
       "      <td>1.336306</td>\n",
       "      <td>110.0</td>\n",
       "      <td>1</td>\n",
       "    </tr>\n",
       "    <tr>\n",
       "      <th>4</th>\n",
       "      <td>2021-05-07</td>\n",
       "      <td>2021-08-31</td>\n",
       "      <td>0.854524</td>\n",
       "      <td>114.0</td>\n",
       "      <td>2</td>\n",
       "      <td>-1.069045</td>\n",
       "      <td>108.0</td>\n",
       "      <td>1</td>\n",
       "    </tr>\n",
       "    <tr>\n",
       "      <th>5</th>\n",
       "      <td>2021-05-07</td>\n",
       "      <td>2021-09-06</td>\n",
       "      <td>0.983857</td>\n",
       "      <td>122.0</td>\n",
       "      <td>2</td>\n",
       "      <td>-1.069045</td>\n",
       "      <td>108.0</td>\n",
       "      <td>1</td>\n",
       "    </tr>\n",
       "    <tr>\n",
       "      <th>6</th>\n",
       "      <td>2021-06-21</td>\n",
       "      <td>2021-10-02</td>\n",
       "      <td>-1.602810</td>\n",
       "      <td>105.0</td>\n",
       "      <td>1</td>\n",
       "      <td>-0.267261</td>\n",
       "      <td>62.5</td>\n",
       "      <td>0</td>\n",
       "    </tr>\n",
       "    <tr>\n",
       "      <th>7</th>\n",
       "      <td>2021-06-21</td>\n",
       "      <td>2021-10-06</td>\n",
       "      <td>-1.473476</td>\n",
       "      <td>110.0</td>\n",
       "      <td>1</td>\n",
       "      <td>-0.267261</td>\n",
       "      <td>62.5</td>\n",
       "      <td>1</td>\n",
       "    </tr>\n",
       "    <tr>\n",
       "      <th>8</th>\n",
       "      <td>2021-06-21</td>\n",
       "      <td>NaT</td>\n",
       "      <td>NaN</td>\n",
       "      <td>NaN</td>\n",
       "      <td>1</td>\n",
       "      <td>-0.267261</td>\n",
       "      <td>0.0</td>\n",
       "      <td>1</td>\n",
       "    </tr>\n",
       "    <tr>\n",
       "      <th>9</th>\n",
       "      <td>2021-06-21</td>\n",
       "      <td>NaT</td>\n",
       "      <td>NaN</td>\n",
       "      <td>NaN</td>\n",
       "      <td>1</td>\n",
       "      <td>2.138090</td>\n",
       "      <td>0.0</td>\n",
       "      <td>1</td>\n",
       "    </tr>\n",
       "  </tbody>\n",
       "</table>\n",
       "</div>"
      ],
      "text/plain": [
       "   birth_date slaughter_date  slaughter_weight  slaughter_age  breed  \\\n",
       "ID                                                                     \n",
       "1  2020-11-06     2021-03-14          0.304857          128.0      1   \n",
       "2  2021-02-20     2021-06-27          0.337191          127.0      0   \n",
       "3  2021-02-20     2021-07-17          0.595857          149.0      0   \n",
       "4  2021-05-07     2021-08-31          0.854524          114.0      2   \n",
       "5  2021-05-07     2021-09-06          0.983857          122.0      2   \n",
       "6  2021-06-21     2021-10-02         -1.602810          105.0      1   \n",
       "7  2021-06-21     2021-10-06         -1.473476          110.0      1   \n",
       "8  2021-06-21            NaT               NaN            NaN      1   \n",
       "9  2021-06-21            NaT               NaN            NaN      1   \n",
       "\n",
       "        meds  feed_eaten  sex  \n",
       "ID                             \n",
       "1  -0.267261       115.0    0  \n",
       "2  -0.267261       110.0    1  \n",
       "3   1.336306       110.0    1  \n",
       "4  -1.069045       108.0    1  \n",
       "5  -1.069045       108.0    1  \n",
       "6  -0.267261        62.5    0  \n",
       "7  -0.267261        62.5    1  \n",
       "8  -0.267261         0.0    1  \n",
       "9   2.138090         0.0    1  "
      ]
     },
     "execution_count": 18,
     "metadata": {},
     "output_type": "execute_result"
    }
   ],
   "source": [
    "# scaling\n",
    "\n",
    "scaled_features = ['slaughter_weight','meds','slaughter_weight']\n",
    "\n",
    "from sklearn.preprocessing import StandardScaler\n",
    "scale = StandardScaler()\n",
    "\n",
    "df[scaled_features] = scale.fit_transform(df[scaled_features])\n",
    "\n",
    "df"
   ]
  },
  {
   "cell_type": "markdown",
   "metadata": {},
   "source": [
    "## decision tree model"
   ]
  },
  {
   "cell_type": "code",
   "execution_count": 20,
   "metadata": {},
   "outputs": [
    {
     "data": {
      "text/html": [
       "<div>\n",
       "<style scoped>\n",
       "    .dataframe tbody tr th:only-of-type {\n",
       "        vertical-align: middle;\n",
       "    }\n",
       "\n",
       "    .dataframe tbody tr th {\n",
       "        vertical-align: top;\n",
       "    }\n",
       "\n",
       "    .dataframe thead th {\n",
       "        text-align: right;\n",
       "    }\n",
       "</style>\n",
       "<table border=\"1\" class=\"dataframe\">\n",
       "  <thead>\n",
       "    <tr style=\"text-align: right;\">\n",
       "      <th></th>\n",
       "      <th>slaughter_weight</th>\n",
       "      <th>meds</th>\n",
       "      <th>breed</th>\n",
       "      <th>sex</th>\n",
       "    </tr>\n",
       "    <tr>\n",
       "      <th>ID</th>\n",
       "      <th></th>\n",
       "      <th></th>\n",
       "      <th></th>\n",
       "      <th></th>\n",
       "    </tr>\n",
       "  </thead>\n",
       "  <tbody>\n",
       "    <tr>\n",
       "      <th>2</th>\n",
       "      <td>54.00</td>\n",
       "      <td>10</td>\n",
       "      <td>0</td>\n",
       "      <td>1</td>\n",
       "    </tr>\n",
       "    <tr>\n",
       "      <th>1</th>\n",
       "      <td>53.75</td>\n",
       "      <td>10</td>\n",
       "      <td>1</td>\n",
       "      <td>0</td>\n",
       "    </tr>\n",
       "    <tr>\n",
       "      <th>5</th>\n",
       "      <td>59.00</td>\n",
       "      <td>0</td>\n",
       "      <td>2</td>\n",
       "      <td>1</td>\n",
       "    </tr>\n",
       "    <tr>\n",
       "      <th>4</th>\n",
       "      <td>58.00</td>\n",
       "      <td>0</td>\n",
       "      <td>2</td>\n",
       "      <td>1</td>\n",
       "    </tr>\n",
       "    <tr>\n",
       "      <th>6</th>\n",
       "      <td>39.00</td>\n",
       "      <td>10</td>\n",
       "      <td>1</td>\n",
       "      <td>0</td>\n",
       "    </tr>\n",
       "  </tbody>\n",
       "</table>\n",
       "</div>"
      ],
      "text/plain": [
       "    slaughter_weight  meds  breed  sex\n",
       "ID                                    \n",
       "2              54.00    10      0    1\n",
       "1              53.75    10      1    0\n",
       "5              59.00     0      2    1\n",
       "4              58.00     0      2    1\n",
       "6              39.00    10      1    0"
      ]
     },
     "execution_count": 20,
     "metadata": {},
     "output_type": "execute_result"
    }
   ],
   "source": [
    "from sklearn.tree import DecisionTreeRegressor\n",
    "\n",
    "\n",
    "# Our target\n",
    "y = df_slaughtered.slaughter_age\n",
    "\n",
    "# Our features\n",
    "features = ['slaughter_weight', 'meds', 'breed', 'sex'] #, 'feed_eaten'\n",
    "X = df_slaughtered[features]\n",
    "\n",
    "train_X, val_X, train_y, val_y = train_test_split(X, y, random_state=1)"
   ]
  },
  {
   "cell_type": "code",
   "execution_count": 21,
   "metadata": {},
   "outputs": [
    {
     "data": {
      "text/plain": [
       "DecisionTreeRegressor(random_state=1)"
      ]
     },
     "execution_count": 21,
     "metadata": {},
     "output_type": "execute_result"
    }
   ],
   "source": [
    "# calling model\n",
    "age_model = DecisionTreeRegressor(random_state=1)\n",
    "\n",
    "# fitting data into model\n",
    "age_model.fit(train_X,train_y)"
   ]
  },
  {
   "cell_type": "code",
   "execution_count": 23,
   "metadata": {},
   "outputs": [
    {
     "name": "stdout",
     "output_type": "stream",
     "text": [
      "prediction:\n",
      " [105. 127.]\n",
      "real:\n",
      " ID\n",
      "7    110.0\n",
      "3    149.0\n",
      "Name: slaughter_age, dtype: float64\n"
     ]
    }
   ],
   "source": [
    "# prediction\n",
    "\n",
    "age_prediction = age_model.predict(val_X)\n",
    "\n",
    "print('prediction:\\n', age_prediction)\n",
    "\n",
    "print('real:\\n',val_y)"
   ]
  },
  {
   "cell_type": "code",
   "execution_count": null,
   "metadata": {},
   "outputs": [
    {
     "data": {
      "text/plain": [
       "array([127., 127.])"
      ]
     },
     "execution_count": 48,
     "metadata": {},
     "output_type": "execute_result"
    }
   ],
   "source": [
    "age_model.predict(df_alive[features])"
   ]
  },
  {
   "cell_type": "markdown",
   "metadata": {},
   "source": [
    "## XGBoost"
   ]
  },
  {
   "cell_type": "code",
   "execution_count": 25,
   "metadata": {},
   "outputs": [
    {
     "name": "stdout",
     "output_type": "stream",
     "text": [
      "prediction:\n",
      " [105.000496 114.00202 ]\n",
      "real:\n",
      " ID\n",
      "7    110.0\n",
      "3    149.0\n",
      "Name: slaughter_age, dtype: float64\n"
     ]
    },
    {
     "data": {
      "text/plain": [
       "array([128., 128.], dtype=float32)"
      ]
     },
     "execution_count": 25,
     "metadata": {},
     "output_type": "execute_result"
    }
   ],
   "source": [
    "from xgboost import XGBRegressor\n",
    "\n",
    "xg_model = XGBRegressor(random_state=1, max_depth=3)\n",
    "xg_model.fit(train_X, train_y)\n",
    "\n",
    "xg_age_prediction = xg_model.predict(val_X)\n",
    "\n",
    "\n",
    "print('prediction:\\n', xg_age_prediction)\n",
    "\n",
    "print('real:\\n',val_y)\n",
    "\n",
    "xg_model.predict(df_alive[features]).round(0)"
   ]
  },
  {
   "cell_type": "markdown",
   "metadata": {},
   "source": [
    "# Average Age"
   ]
  },
  {
   "cell_type": "code",
   "execution_count": null,
   "metadata": {},
   "outputs": [
    {
     "data": {
      "text/html": [
       "<div>\n",
       "<style scoped>\n",
       "    .dataframe tbody tr th:only-of-type {\n",
       "        vertical-align: middle;\n",
       "    }\n",
       "\n",
       "    .dataframe tbody tr th {\n",
       "        vertical-align: top;\n",
       "    }\n",
       "\n",
       "    .dataframe thead th {\n",
       "        text-align: right;\n",
       "    }\n",
       "</style>\n",
       "<table border=\"1\" class=\"dataframe\">\n",
       "  <thead>\n",
       "    <tr style=\"text-align: right;\">\n",
       "      <th></th>\n",
       "      <th>birth_date</th>\n",
       "      <th>meds</th>\n",
       "      <th>feed_eaten</th>\n",
       "      <th>sex</th>\n",
       "      <th>breed_m</th>\n",
       "      <th>breed_n</th>\n",
       "      <th>breed_t</th>\n",
       "      <th>slaughter_weight</th>\n",
       "    </tr>\n",
       "    <tr>\n",
       "      <th>ID</th>\n",
       "      <th></th>\n",
       "      <th></th>\n",
       "      <th></th>\n",
       "      <th></th>\n",
       "      <th></th>\n",
       "      <th></th>\n",
       "      <th></th>\n",
       "      <th></th>\n",
       "    </tr>\n",
       "  </thead>\n",
       "  <tbody>\n",
       "    <tr>\n",
       "      <th>8</th>\n",
       "      <td>2021-06-21</td>\n",
       "      <td>10</td>\n",
       "      <td>0.0</td>\n",
       "      <td>1</td>\n",
       "      <td>0</td>\n",
       "      <td>1</td>\n",
       "      <td>0</td>\n",
       "      <td>52</td>\n",
       "    </tr>\n",
       "    <tr>\n",
       "      <th>9</th>\n",
       "      <td>2021-06-21</td>\n",
       "      <td>40</td>\n",
       "      <td>0.0</td>\n",
       "      <td>1</td>\n",
       "      <td>0</td>\n",
       "      <td>1</td>\n",
       "      <td>0</td>\n",
       "      <td>52</td>\n",
       "    </tr>\n",
       "  </tbody>\n",
       "</table>\n",
       "</div>"
      ],
      "text/plain": [
       "   birth_date  meds  feed_eaten  sex  breed_m  breed_n  breed_t  \\\n",
       "ID                                                                \n",
       "8  2021-06-21    10         0.0    1        0        1        0   \n",
       "9  2021-06-21    40         0.0    1        0        1        0   \n",
       "\n",
       "    slaughter_weight  \n",
       "ID                    \n",
       "8                 52  \n",
       "9                 52  "
      ]
     },
     "execution_count": 50,
     "metadata": {},
     "output_type": "execute_result"
    }
   ],
   "source": [
    "df_alive"
   ]
  },
  {
   "cell_type": "code",
   "execution_count": null,
   "metadata": {},
   "outputs": [],
   "source": [
    "from calendar import monthrange"
   ]
  },
  {
   "cell_type": "code",
   "execution_count": null,
   "metadata": {},
   "outputs": [
    {
     "data": {
      "text/plain": [
       "datetime.date(2021, 9, 15)"
      ]
     },
     "execution_count": 52,
     "metadata": {},
     "output_type": "execute_result"
    }
   ],
   "source": [
    "just = dt.date.today()\n",
    "\n",
    "day = monthrange(2021, just.month)[1]//2\n",
    "\n",
    "mid_month = just - dt.timedelta(days=just.day + day)\n",
    "\n",
    "mid_month"
   ]
  },
  {
   "cell_type": "code",
   "execution_count": null,
   "metadata": {},
   "outputs": [
    {
     "data": {
      "text/html": [
       "<div>\n",
       "<style scoped>\n",
       "    .dataframe tbody tr th:only-of-type {\n",
       "        vertical-align: middle;\n",
       "    }\n",
       "\n",
       "    .dataframe tbody tr th {\n",
       "        vertical-align: top;\n",
       "    }\n",
       "\n",
       "    .dataframe thead th {\n",
       "        text-align: right;\n",
       "    }\n",
       "</style>\n",
       "<table border=\"1\" class=\"dataframe\">\n",
       "  <thead>\n",
       "    <tr style=\"text-align: right;\">\n",
       "      <th></th>\n",
       "      <th>birth_date</th>\n",
       "      <th>meds</th>\n",
       "      <th>feed_eaten</th>\n",
       "      <th>sex</th>\n",
       "      <th>breed_m</th>\n",
       "      <th>breed_n</th>\n",
       "      <th>breed_t</th>\n",
       "      <th>slaughter_weight</th>\n",
       "      <th>age</th>\n",
       "      <th>mid_month_age</th>\n",
       "    </tr>\n",
       "    <tr>\n",
       "      <th>ID</th>\n",
       "      <th></th>\n",
       "      <th></th>\n",
       "      <th></th>\n",
       "      <th></th>\n",
       "      <th></th>\n",
       "      <th></th>\n",
       "      <th></th>\n",
       "      <th></th>\n",
       "      <th></th>\n",
       "      <th></th>\n",
       "    </tr>\n",
       "  </thead>\n",
       "  <tbody>\n",
       "    <tr>\n",
       "      <th>8</th>\n",
       "      <td>2021-06-21</td>\n",
       "      <td>10</td>\n",
       "      <td>0.0</td>\n",
       "      <td>1</td>\n",
       "      <td>0</td>\n",
       "      <td>1</td>\n",
       "      <td>0</td>\n",
       "      <td>52</td>\n",
       "      <td>118 days</td>\n",
       "      <td>86 days</td>\n",
       "    </tr>\n",
       "    <tr>\n",
       "      <th>9</th>\n",
       "      <td>2021-06-21</td>\n",
       "      <td>40</td>\n",
       "      <td>0.0</td>\n",
       "      <td>1</td>\n",
       "      <td>0</td>\n",
       "      <td>1</td>\n",
       "      <td>0</td>\n",
       "      <td>52</td>\n",
       "      <td>118 days</td>\n",
       "      <td>86 days</td>\n",
       "    </tr>\n",
       "  </tbody>\n",
       "</table>\n",
       "</div>"
      ],
      "text/plain": [
       "   birth_date  meds  feed_eaten  sex  breed_m  breed_n  breed_t  \\\n",
       "ID                                                                \n",
       "8  2021-06-21    10         0.0    1        0        1        0   \n",
       "9  2021-06-21    40         0.0    1        0        1        0   \n",
       "\n",
       "    slaughter_weight      age mid_month_age  \n",
       "ID                                           \n",
       "8                 52 118 days       86 days  \n",
       "9                 52 118 days       86 days  "
      ]
     },
     "execution_count": 53,
     "metadata": {},
     "output_type": "execute_result"
    }
   ],
   "source": [
    "df_alive['age'] = dt.datetime.fromordinal(just.toordinal()) - pd.to_datetime(df.birth_date)\n",
    "df_alive['mid_month_age'] = dt.datetime.fromordinal(mid_month.toordinal()) - pd.to_datetime(df.birth_date)\n",
    "\n",
    "avAge = df_alive.mid_month_age.mean()\n",
    "\n",
    "df_alive"
   ]
  },
  {
   "cell_type": "markdown",
   "metadata": {},
   "source": [
    "# Feed over lifetime"
   ]
  },
  {
   "cell_type": "code",
   "execution_count": null,
   "metadata": {},
   "outputs": [
    {
     "data": {
      "text/html": [
       "<div>\n",
       "<style scoped>\n",
       "    .dataframe tbody tr th:only-of-type {\n",
       "        vertical-align: middle;\n",
       "    }\n",
       "\n",
       "    .dataframe tbody tr th {\n",
       "        vertical-align: top;\n",
       "    }\n",
       "\n",
       "    .dataframe thead th {\n",
       "        text-align: right;\n",
       "    }\n",
       "</style>\n",
       "<table border=\"1\" class=\"dataframe\">\n",
       "  <thead>\n",
       "    <tr style=\"text-align: right;\">\n",
       "      <th></th>\n",
       "      <th>birth_date</th>\n",
       "      <th>meds</th>\n",
       "      <th>feed_eaten</th>\n",
       "      <th>sex</th>\n",
       "      <th>breed_m</th>\n",
       "      <th>breed_n</th>\n",
       "      <th>breed_t</th>\n",
       "      <th>slaughter_weight</th>\n",
       "      <th>age</th>\n",
       "      <th>mid_month_age</th>\n",
       "    </tr>\n",
       "    <tr>\n",
       "      <th>ID</th>\n",
       "      <th></th>\n",
       "      <th></th>\n",
       "      <th></th>\n",
       "      <th></th>\n",
       "      <th></th>\n",
       "      <th></th>\n",
       "      <th></th>\n",
       "      <th></th>\n",
       "      <th></th>\n",
       "      <th></th>\n",
       "    </tr>\n",
       "  </thead>\n",
       "  <tbody>\n",
       "    <tr>\n",
       "      <th>8</th>\n",
       "      <td>2021-06-21</td>\n",
       "      <td>10</td>\n",
       "      <td>0.0</td>\n",
       "      <td>1</td>\n",
       "      <td>0</td>\n",
       "      <td>1</td>\n",
       "      <td>0</td>\n",
       "      <td>52</td>\n",
       "      <td>118 days</td>\n",
       "      <td>86 days</td>\n",
       "    </tr>\n",
       "    <tr>\n",
       "      <th>9</th>\n",
       "      <td>2021-06-21</td>\n",
       "      <td>40</td>\n",
       "      <td>0.0</td>\n",
       "      <td>1</td>\n",
       "      <td>0</td>\n",
       "      <td>1</td>\n",
       "      <td>0</td>\n",
       "      <td>52</td>\n",
       "      <td>118 days</td>\n",
       "      <td>86 days</td>\n",
       "    </tr>\n",
       "  </tbody>\n",
       "</table>\n",
       "</div>"
      ],
      "text/plain": [
       "   birth_date  meds  feed_eaten  sex  breed_m  breed_n  breed_t  \\\n",
       "ID                                                                \n",
       "8  2021-06-21    10         0.0    1        0        1        0   \n",
       "9  2021-06-21    40         0.0    1        0        1        0   \n",
       "\n",
       "    slaughter_weight      age mid_month_age  \n",
       "ID                                           \n",
       "8                 52 118 days       86 days  \n",
       "9                 52 118 days       86 days  "
      ]
     },
     "execution_count": 54,
     "metadata": {},
     "output_type": "execute_result"
    }
   ],
   "source": [
    "df_alive"
   ]
  },
  {
   "cell_type": "markdown",
   "metadata": {},
   "source": [
    "Getting the months the pig was bought and slaughtered"
   ]
  },
  {
   "cell_type": "code",
   "execution_count": null,
   "metadata": {},
   "outputs": [
    {
     "data": {
      "text/plain": [
       "(6, 10)"
      ]
     },
     "execution_count": 55,
     "metadata": {},
     "output_type": "execute_result"
    }
   ],
   "source": [
    "month_bought = pd.to_datetime(df.loc[6]['birth_date']).month\n",
    "month_slaughtered = just.month\n",
    "\n",
    "month_bought, month_slaughtered"
   ]
  },
  {
   "cell_type": "markdown",
   "metadata": {},
   "source": [
    "If the piglet was bought after the 15th of the month, don't count it's feed for that month"
   ]
  },
  {
   "cell_type": "code",
   "execution_count": null,
   "metadata": {},
   "outputs": [
    {
     "data": {
      "text/plain": [
       "7"
      ]
     },
     "execution_count": 56,
     "metadata": {},
     "output_type": "execute_result"
    }
   ],
   "source": [
    "if pd.to_datetime(df.loc[6]['birth_date']).day > 15:\n",
    "    month_bought += 1\n",
    "\n",
    "month_bought"
   ]
  },
  {
   "cell_type": "code",
   "execution_count": null,
   "metadata": {},
   "outputs": [
    {
     "data": {
      "text/html": [
       "<div>\n",
       "<style scoped>\n",
       "    .dataframe tbody tr th:only-of-type {\n",
       "        vertical-align: middle;\n",
       "    }\n",
       "\n",
       "    .dataframe tbody tr th {\n",
       "        vertical-align: top;\n",
       "    }\n",
       "\n",
       "    .dataframe thead th {\n",
       "        text-align: right;\n",
       "    }\n",
       "</style>\n",
       "<table border=\"1\" class=\"dataframe\">\n",
       "  <thead>\n",
       "    <tr style=\"text-align: right;\">\n",
       "      <th></th>\n",
       "      <th>population</th>\n",
       "      <th>feed_mass</th>\n",
       "      <th>feed_price</th>\n",
       "      <th>feed_per_pig</th>\n",
       "      <th>average_age</th>\n",
       "    </tr>\n",
       "    <tr>\n",
       "      <th>month</th>\n",
       "      <th></th>\n",
       "      <th></th>\n",
       "      <th></th>\n",
       "      <th></th>\n",
       "      <th></th>\n",
       "    </tr>\n",
       "  </thead>\n",
       "  <tbody>\n",
       "    <tr>\n",
       "      <th>jan</th>\n",
       "      <td>0</td>\n",
       "      <td>0</td>\n",
       "      <td>0</td>\n",
       "      <td>0.0</td>\n",
       "      <td>0</td>\n",
       "    </tr>\n",
       "    <tr>\n",
       "      <th>feb</th>\n",
       "      <td>0</td>\n",
       "      <td>0</td>\n",
       "      <td>0</td>\n",
       "      <td>0.0</td>\n",
       "      <td>0</td>\n",
       "    </tr>\n",
       "    <tr>\n",
       "      <th>mar</th>\n",
       "      <td>0</td>\n",
       "      <td>0</td>\n",
       "      <td>0</td>\n",
       "      <td>0.0</td>\n",
       "      <td>0</td>\n",
       "    </tr>\n",
       "    <tr>\n",
       "      <th>apr</th>\n",
       "      <td>0</td>\n",
       "      <td>0</td>\n",
       "      <td>0</td>\n",
       "      <td>0.0</td>\n",
       "      <td>0</td>\n",
       "    </tr>\n",
       "    <tr>\n",
       "      <th>may</th>\n",
       "      <td>3</td>\n",
       "      <td>150</td>\n",
       "      <td>960</td>\n",
       "      <td>50.0</td>\n",
       "      <td>96</td>\n",
       "    </tr>\n",
       "    <tr>\n",
       "      <th>jun</th>\n",
       "      <td>3</td>\n",
       "      <td>100</td>\n",
       "      <td>624</td>\n",
       "      <td>33.0</td>\n",
       "      <td>77</td>\n",
       "    </tr>\n",
       "    <tr>\n",
       "      <th>jul</th>\n",
       "      <td>6</td>\n",
       "      <td>200</td>\n",
       "      <td>1292</td>\n",
       "      <td>33.0</td>\n",
       "      <td>71</td>\n",
       "    </tr>\n",
       "    <tr>\n",
       "      <th>aug</th>\n",
       "      <td>6</td>\n",
       "      <td>250</td>\n",
       "      <td>1606</td>\n",
       "      <td>42.0</td>\n",
       "      <td>71</td>\n",
       "    </tr>\n",
       "    <tr>\n",
       "      <th>sep</th>\n",
       "      <td>4</td>\n",
       "      <td>250</td>\n",
       "      <td>1575</td>\n",
       "      <td>62.5</td>\n",
       "      <td>56</td>\n",
       "    </tr>\n",
       "    <tr>\n",
       "      <th>oct</th>\n",
       "      <td>2</td>\n",
       "      <td>0</td>\n",
       "      <td>0</td>\n",
       "      <td>0.0</td>\n",
       "      <td>0</td>\n",
       "    </tr>\n",
       "    <tr>\n",
       "      <th>nov</th>\n",
       "      <td>2</td>\n",
       "      <td>0</td>\n",
       "      <td>0</td>\n",
       "      <td>0.0</td>\n",
       "      <td>0</td>\n",
       "    </tr>\n",
       "    <tr>\n",
       "      <th>dec</th>\n",
       "      <td>0</td>\n",
       "      <td>0</td>\n",
       "      <td>0</td>\n",
       "      <td>0.0</td>\n",
       "      <td>0</td>\n",
       "    </tr>\n",
       "  </tbody>\n",
       "</table>\n",
       "</div>"
      ],
      "text/plain": [
       "       population  feed_mass  feed_price  feed_per_pig  average_age\n",
       "month                                                              \n",
       "jan             0          0           0           0.0            0\n",
       "feb             0          0           0           0.0            0\n",
       "mar             0          0           0           0.0            0\n",
       "apr             0          0           0           0.0            0\n",
       "may             3        150         960          50.0           96\n",
       "jun             3        100         624          33.0           77\n",
       "jul             6        200        1292          33.0           71\n",
       "aug             6        250        1606          42.0           71\n",
       "sep             4        250        1575          62.5           56\n",
       "oct             2          0           0           0.0            0\n",
       "nov             2          0           0           0.0            0\n",
       "dec             0          0           0           0.0            0"
      ]
     },
     "execution_count": 57,
     "metadata": {},
     "output_type": "execute_result"
    }
   ],
   "source": [
    "df_month"
   ]
  },
  {
   "cell_type": "markdown",
   "metadata": {},
   "source": [
    "Feed per pig"
   ]
  },
  {
   "cell_type": "code",
   "execution_count": null,
   "metadata": {},
   "outputs": [
    {
     "data": {
      "text/html": [
       "<div>\n",
       "<style scoped>\n",
       "    .dataframe tbody tr th:only-of-type {\n",
       "        vertical-align: middle;\n",
       "    }\n",
       "\n",
       "    .dataframe tbody tr th {\n",
       "        vertical-align: top;\n",
       "    }\n",
       "\n",
       "    .dataframe thead th {\n",
       "        text-align: right;\n",
       "    }\n",
       "</style>\n",
       "<table border=\"1\" class=\"dataframe\">\n",
       "  <thead>\n",
       "    <tr style=\"text-align: right;\">\n",
       "      <th></th>\n",
       "      <th>population</th>\n",
       "      <th>feed_mass</th>\n",
       "      <th>feed_price</th>\n",
       "      <th>feed_per_pig</th>\n",
       "      <th>average_age</th>\n",
       "    </tr>\n",
       "    <tr>\n",
       "      <th>month</th>\n",
       "      <th></th>\n",
       "      <th></th>\n",
       "      <th></th>\n",
       "      <th></th>\n",
       "      <th></th>\n",
       "    </tr>\n",
       "  </thead>\n",
       "  <tbody>\n",
       "    <tr>\n",
       "      <th>jan</th>\n",
       "      <td>0</td>\n",
       "      <td>0</td>\n",
       "      <td>0</td>\n",
       "      <td>NaN</td>\n",
       "      <td>0</td>\n",
       "    </tr>\n",
       "    <tr>\n",
       "      <th>feb</th>\n",
       "      <td>0</td>\n",
       "      <td>0</td>\n",
       "      <td>0</td>\n",
       "      <td>NaN</td>\n",
       "      <td>0</td>\n",
       "    </tr>\n",
       "    <tr>\n",
       "      <th>mar</th>\n",
       "      <td>0</td>\n",
       "      <td>0</td>\n",
       "      <td>0</td>\n",
       "      <td>NaN</td>\n",
       "      <td>0</td>\n",
       "    </tr>\n",
       "    <tr>\n",
       "      <th>apr</th>\n",
       "      <td>0</td>\n",
       "      <td>0</td>\n",
       "      <td>0</td>\n",
       "      <td>NaN</td>\n",
       "      <td>0</td>\n",
       "    </tr>\n",
       "    <tr>\n",
       "      <th>may</th>\n",
       "      <td>3</td>\n",
       "      <td>150</td>\n",
       "      <td>960</td>\n",
       "      <td>50.000000</td>\n",
       "      <td>96</td>\n",
       "    </tr>\n",
       "    <tr>\n",
       "      <th>jun</th>\n",
       "      <td>3</td>\n",
       "      <td>100</td>\n",
       "      <td>624</td>\n",
       "      <td>33.333333</td>\n",
       "      <td>77</td>\n",
       "    </tr>\n",
       "    <tr>\n",
       "      <th>jul</th>\n",
       "      <td>6</td>\n",
       "      <td>200</td>\n",
       "      <td>1292</td>\n",
       "      <td>33.333333</td>\n",
       "      <td>71</td>\n",
       "    </tr>\n",
       "    <tr>\n",
       "      <th>aug</th>\n",
       "      <td>6</td>\n",
       "      <td>250</td>\n",
       "      <td>1606</td>\n",
       "      <td>41.666667</td>\n",
       "      <td>71</td>\n",
       "    </tr>\n",
       "    <tr>\n",
       "      <th>sep</th>\n",
       "      <td>4</td>\n",
       "      <td>250</td>\n",
       "      <td>1575</td>\n",
       "      <td>62.500000</td>\n",
       "      <td>56</td>\n",
       "    </tr>\n",
       "    <tr>\n",
       "      <th>oct</th>\n",
       "      <td>2</td>\n",
       "      <td>0</td>\n",
       "      <td>0</td>\n",
       "      <td>0.000000</td>\n",
       "      <td>0</td>\n",
       "    </tr>\n",
       "    <tr>\n",
       "      <th>nov</th>\n",
       "      <td>2</td>\n",
       "      <td>0</td>\n",
       "      <td>0</td>\n",
       "      <td>0.000000</td>\n",
       "      <td>0</td>\n",
       "    </tr>\n",
       "    <tr>\n",
       "      <th>dec</th>\n",
       "      <td>0</td>\n",
       "      <td>0</td>\n",
       "      <td>0</td>\n",
       "      <td>NaN</td>\n",
       "      <td>0</td>\n",
       "    </tr>\n",
       "  </tbody>\n",
       "</table>\n",
       "</div>"
      ],
      "text/plain": [
       "       population  feed_mass  feed_price  feed_per_pig  average_age\n",
       "month                                                              \n",
       "jan             0          0           0           NaN            0\n",
       "feb             0          0           0           NaN            0\n",
       "mar             0          0           0           NaN            0\n",
       "apr             0          0           0           NaN            0\n",
       "may             3        150         960     50.000000           96\n",
       "jun             3        100         624     33.333333           77\n",
       "jul             6        200        1292     33.333333           71\n",
       "aug             6        250        1606     41.666667           71\n",
       "sep             4        250        1575     62.500000           56\n",
       "oct             2          0           0      0.000000            0\n",
       "nov             2          0           0      0.000000            0\n",
       "dec             0          0           0           NaN            0"
      ]
     },
     "execution_count": 58,
     "metadata": {},
     "output_type": "execute_result"
    }
   ],
   "source": [
    "df_month['feed_per_pig'] = df_month.feed_mass / df_month.population\n",
    "\n",
    "df_month"
   ]
  },
  {
   "cell_type": "code",
   "execution_count": null,
   "metadata": {},
   "outputs": [
    {
     "data": {
      "text/plain": [
       "116.66666666666669"
      ]
     },
     "execution_count": 59,
     "metadata": {},
     "output_type": "execute_result"
    }
   ],
   "source": [
    "df_month[4: 7]['feed_per_pig'].sum()"
   ]
  },
  {
   "cell_type": "code",
   "execution_count": null,
   "metadata": {},
   "outputs": [
    {
     "data": {
      "text/plain": [
       "10"
      ]
     },
     "execution_count": 60,
     "metadata": {},
     "output_type": "execute_result"
    }
   ],
   "source": [
    "dt.datetime.now().month  \n"
   ]
  },
  {
   "cell_type": "code",
   "execution_count": null,
   "metadata": {},
   "outputs": [],
   "source": []
  }
 ],
 "metadata": {
  "interpreter": {
   "hash": "31f2aee4e71d21fbe5cf8b01ff0e069b9275f58929596ceb00d14d90e3e16cd6"
  },
  "kernelspec": {
   "display_name": "Python 3.8.10 64-bit",
   "name": "python3"
  },
  "language_info": {
   "codemirror_mode": {
    "name": "ipython",
    "version": 3
   },
   "file_extension": ".py",
   "mimetype": "text/x-python",
   "name": "python",
   "nbconvert_exporter": "python",
   "pygments_lexer": "ipython3",
   "version": "3.8.10"
  },
  "orig_nbformat": 4
 },
 "nbformat": 4,
 "nbformat_minor": 2
}
