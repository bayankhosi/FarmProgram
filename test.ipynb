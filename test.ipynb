{
 "cells": [
  {
   "cell_type": "markdown",
   "source": [
    "## Importing Libraries"
   ],
   "metadata": {}
  },
  {
   "cell_type": "code",
   "execution_count": 1,
   "source": [
    "import numpy as np\n",
    "import pandas as pd\n",
    "\n",
    "from sklearn.model_selection import train_test_split\n",
    "from scipy import stats\n",
    "from plotly import express as px\n",
    "import matplotlib.pyplot as plt\n",
    "import seaborn as sns\n",
    "\n",
    "import datetime as dt\n",
    "\n",
    "today = dt.datetime.now()"
   ],
   "outputs": [],
   "metadata": {}
  },
  {
   "cell_type": "markdown",
   "source": [
    "## Importing the Tables"
   ],
   "metadata": {}
  },
  {
   "cell_type": "code",
   "execution_count": 2,
   "source": [
    "df = pd.read_excel('./Files/spread.xlsx', \n",
    "                   sheet_name= 'individual',\n",
    "                   index_col=0)\n",
    "\n",
    "df_month = pd.read_excel('./Files/spread.xlsx', \n",
    "                         sheet_name= '2021')"
   ],
   "outputs": [],
   "metadata": {}
  },
  {
   "cell_type": "code",
   "execution_count": 3,
   "source": [
    "df"
   ],
   "outputs": [
    {
     "output_type": "execute_result",
     "data": {
      "text/plain": [
       "   birth_date  purchase_price slaughter_date  slaughter_weight  slaughter_age  \\\n",
       "ID                                                                              \n",
       "1  2020-11-06             500     2021-03-14             53.75          128.0   \n",
       "2  2021-02-20             600     2021-06-27             54.00          127.0   \n",
       "3  2021-02-20             600     2021-07-17             56.00          149.0   \n",
       "4  2021-05-07             500            NaT               NaN            NaN   \n",
       "5  2021-05-07             500            NaT               NaN            NaN   \n",
       "6  2021-06-21             500            NaT               NaN            NaN   \n",
       "7  2021-06-21             500            NaT               NaN            NaN   \n",
       "8  2021-06-21             500            NaT               NaN            NaN   \n",
       "9  2021-06-21             500            NaT               NaN            NaN   \n",
       "\n",
       "    sale_price breed  meds   9  \n",
       "ID                              \n",
       "1       2100.0     n    10 NaN  \n",
       "2       2700.0     m    10 NaN  \n",
       "3       2800.0     m    30 NaN  \n",
       "4          NaN     t     0 NaN  \n",
       "5          NaN     t     0 NaN  \n",
       "6          NaN     n    10 NaN  \n",
       "7          NaN     n    40 NaN  \n",
       "8          NaN     n    10 NaN  \n",
       "9          NaN     n    10 NaN  "
      ],
      "text/html": [
       "<div>\n",
       "<style scoped>\n",
       "    .dataframe tbody tr th:only-of-type {\n",
       "        vertical-align: middle;\n",
       "    }\n",
       "\n",
       "    .dataframe tbody tr th {\n",
       "        vertical-align: top;\n",
       "    }\n",
       "\n",
       "    .dataframe thead th {\n",
       "        text-align: right;\n",
       "    }\n",
       "</style>\n",
       "<table border=\"1\" class=\"dataframe\">\n",
       "  <thead>\n",
       "    <tr style=\"text-align: right;\">\n",
       "      <th></th>\n",
       "      <th>birth_date</th>\n",
       "      <th>purchase_price</th>\n",
       "      <th>slaughter_date</th>\n",
       "      <th>slaughter_weight</th>\n",
       "      <th>slaughter_age</th>\n",
       "      <th>sale_price</th>\n",
       "      <th>breed</th>\n",
       "      <th>meds</th>\n",
       "      <th>9</th>\n",
       "    </tr>\n",
       "    <tr>\n",
       "      <th>ID</th>\n",
       "      <th></th>\n",
       "      <th></th>\n",
       "      <th></th>\n",
       "      <th></th>\n",
       "      <th></th>\n",
       "      <th></th>\n",
       "      <th></th>\n",
       "      <th></th>\n",
       "      <th></th>\n",
       "    </tr>\n",
       "  </thead>\n",
       "  <tbody>\n",
       "    <tr>\n",
       "      <th>1</th>\n",
       "      <td>2020-11-06</td>\n",
       "      <td>500</td>\n",
       "      <td>2021-03-14</td>\n",
       "      <td>53.75</td>\n",
       "      <td>128.0</td>\n",
       "      <td>2100.0</td>\n",
       "      <td>n</td>\n",
       "      <td>10</td>\n",
       "      <td>NaN</td>\n",
       "    </tr>\n",
       "    <tr>\n",
       "      <th>2</th>\n",
       "      <td>2021-02-20</td>\n",
       "      <td>600</td>\n",
       "      <td>2021-06-27</td>\n",
       "      <td>54.00</td>\n",
       "      <td>127.0</td>\n",
       "      <td>2700.0</td>\n",
       "      <td>m</td>\n",
       "      <td>10</td>\n",
       "      <td>NaN</td>\n",
       "    </tr>\n",
       "    <tr>\n",
       "      <th>3</th>\n",
       "      <td>2021-02-20</td>\n",
       "      <td>600</td>\n",
       "      <td>2021-07-17</td>\n",
       "      <td>56.00</td>\n",
       "      <td>149.0</td>\n",
       "      <td>2800.0</td>\n",
       "      <td>m</td>\n",
       "      <td>30</td>\n",
       "      <td>NaN</td>\n",
       "    </tr>\n",
       "    <tr>\n",
       "      <th>4</th>\n",
       "      <td>2021-05-07</td>\n",
       "      <td>500</td>\n",
       "      <td>NaT</td>\n",
       "      <td>NaN</td>\n",
       "      <td>NaN</td>\n",
       "      <td>NaN</td>\n",
       "      <td>t</td>\n",
       "      <td>0</td>\n",
       "      <td>NaN</td>\n",
       "    </tr>\n",
       "    <tr>\n",
       "      <th>5</th>\n",
       "      <td>2021-05-07</td>\n",
       "      <td>500</td>\n",
       "      <td>NaT</td>\n",
       "      <td>NaN</td>\n",
       "      <td>NaN</td>\n",
       "      <td>NaN</td>\n",
       "      <td>t</td>\n",
       "      <td>0</td>\n",
       "      <td>NaN</td>\n",
       "    </tr>\n",
       "    <tr>\n",
       "      <th>6</th>\n",
       "      <td>2021-06-21</td>\n",
       "      <td>500</td>\n",
       "      <td>NaT</td>\n",
       "      <td>NaN</td>\n",
       "      <td>NaN</td>\n",
       "      <td>NaN</td>\n",
       "      <td>n</td>\n",
       "      <td>10</td>\n",
       "      <td>NaN</td>\n",
       "    </tr>\n",
       "    <tr>\n",
       "      <th>7</th>\n",
       "      <td>2021-06-21</td>\n",
       "      <td>500</td>\n",
       "      <td>NaT</td>\n",
       "      <td>NaN</td>\n",
       "      <td>NaN</td>\n",
       "      <td>NaN</td>\n",
       "      <td>n</td>\n",
       "      <td>40</td>\n",
       "      <td>NaN</td>\n",
       "    </tr>\n",
       "    <tr>\n",
       "      <th>8</th>\n",
       "      <td>2021-06-21</td>\n",
       "      <td>500</td>\n",
       "      <td>NaT</td>\n",
       "      <td>NaN</td>\n",
       "      <td>NaN</td>\n",
       "      <td>NaN</td>\n",
       "      <td>n</td>\n",
       "      <td>10</td>\n",
       "      <td>NaN</td>\n",
       "    </tr>\n",
       "    <tr>\n",
       "      <th>9</th>\n",
       "      <td>2021-06-21</td>\n",
       "      <td>500</td>\n",
       "      <td>NaT</td>\n",
       "      <td>NaN</td>\n",
       "      <td>NaN</td>\n",
       "      <td>NaN</td>\n",
       "      <td>n</td>\n",
       "      <td>10</td>\n",
       "      <td>NaN</td>\n",
       "    </tr>\n",
       "  </tbody>\n",
       "</table>\n",
       "</div>"
      ]
     },
     "metadata": {},
     "execution_count": 3
    }
   ],
   "metadata": {}
  },
  {
   "cell_type": "code",
   "execution_count": 4,
   "source": [
    "df_alive = df.loc[df.slaughter_date.isnull()].filter(\n",
    "        ['ID','birth_date','purchase_price'])\n",
    "\n",
    "df_slaughtered = df.loc[df.slaughter_date.isnull()==False]\n",
    "\n",
    "df_alive['age'] = today - pd.to_datetime(df.birth_date)\n",
    "df_alive['slaughter_estimate'] = df.birth_date + dt.timedelta(days=99) \n",
    "\n",
    "df_alive"
   ],
   "outputs": [
    {
     "output_type": "execute_result",
     "data": {
      "text/plain": [
       "   birth_date  purchase_price                      age slaughter_estimate\n",
       "ID                                                                       \n",
       "4  2021-05-07             500 107 days 08:49:02.515627         2021-08-14\n",
       "5  2021-05-07             500 107 days 08:49:02.515627         2021-08-14\n",
       "6  2021-06-21             500  62 days 08:49:02.515627         2021-09-28\n",
       "7  2021-06-21             500  62 days 08:49:02.515627         2021-09-28\n",
       "8  2021-06-21             500  62 days 08:49:02.515627         2021-09-28\n",
       "9  2021-06-21             500  62 days 08:49:02.515627         2021-09-28"
      ],
      "text/html": [
       "<div>\n",
       "<style scoped>\n",
       "    .dataframe tbody tr th:only-of-type {\n",
       "        vertical-align: middle;\n",
       "    }\n",
       "\n",
       "    .dataframe tbody tr th {\n",
       "        vertical-align: top;\n",
       "    }\n",
       "\n",
       "    .dataframe thead th {\n",
       "        text-align: right;\n",
       "    }\n",
       "</style>\n",
       "<table border=\"1\" class=\"dataframe\">\n",
       "  <thead>\n",
       "    <tr style=\"text-align: right;\">\n",
       "      <th></th>\n",
       "      <th>birth_date</th>\n",
       "      <th>purchase_price</th>\n",
       "      <th>age</th>\n",
       "      <th>slaughter_estimate</th>\n",
       "    </tr>\n",
       "    <tr>\n",
       "      <th>ID</th>\n",
       "      <th></th>\n",
       "      <th></th>\n",
       "      <th></th>\n",
       "      <th></th>\n",
       "    </tr>\n",
       "  </thead>\n",
       "  <tbody>\n",
       "    <tr>\n",
       "      <th>4</th>\n",
       "      <td>2021-05-07</td>\n",
       "      <td>500</td>\n",
       "      <td>107 days 08:49:02.515627</td>\n",
       "      <td>2021-08-14</td>\n",
       "    </tr>\n",
       "    <tr>\n",
       "      <th>5</th>\n",
       "      <td>2021-05-07</td>\n",
       "      <td>500</td>\n",
       "      <td>107 days 08:49:02.515627</td>\n",
       "      <td>2021-08-14</td>\n",
       "    </tr>\n",
       "    <tr>\n",
       "      <th>6</th>\n",
       "      <td>2021-06-21</td>\n",
       "      <td>500</td>\n",
       "      <td>62 days 08:49:02.515627</td>\n",
       "      <td>2021-09-28</td>\n",
       "    </tr>\n",
       "    <tr>\n",
       "      <th>7</th>\n",
       "      <td>2021-06-21</td>\n",
       "      <td>500</td>\n",
       "      <td>62 days 08:49:02.515627</td>\n",
       "      <td>2021-09-28</td>\n",
       "    </tr>\n",
       "    <tr>\n",
       "      <th>8</th>\n",
       "      <td>2021-06-21</td>\n",
       "      <td>500</td>\n",
       "      <td>62 days 08:49:02.515627</td>\n",
       "      <td>2021-09-28</td>\n",
       "    </tr>\n",
       "    <tr>\n",
       "      <th>9</th>\n",
       "      <td>2021-06-21</td>\n",
       "      <td>500</td>\n",
       "      <td>62 days 08:49:02.515627</td>\n",
       "      <td>2021-09-28</td>\n",
       "    </tr>\n",
       "  </tbody>\n",
       "</table>\n",
       "</div>"
      ]
     },
     "metadata": {},
     "execution_count": 4
    }
   ],
   "metadata": {}
  },
  {
   "cell_type": "code",
   "execution_count": 5,
   "source": [
    "av_age = df_alive.age.mean()\n",
    "df_slaughtered"
   ],
   "outputs": [
    {
     "output_type": "execute_result",
     "data": {
      "text/plain": [
       "   birth_date  purchase_price slaughter_date  slaughter_weight  slaughter_age  \\\n",
       "ID                                                                              \n",
       "1  2020-11-06             500     2021-03-14             53.75          128.0   \n",
       "2  2021-02-20             600     2021-06-27             54.00          127.0   \n",
       "3  2021-02-20             600     2021-07-17             56.00          149.0   \n",
       "\n",
       "    sale_price breed  meds   9  \n",
       "ID                              \n",
       "1       2100.0     n    10 NaN  \n",
       "2       2700.0     m    10 NaN  \n",
       "3       2800.0     m    30 NaN  "
      ],
      "text/html": [
       "<div>\n",
       "<style scoped>\n",
       "    .dataframe tbody tr th:only-of-type {\n",
       "        vertical-align: middle;\n",
       "    }\n",
       "\n",
       "    .dataframe tbody tr th {\n",
       "        vertical-align: top;\n",
       "    }\n",
       "\n",
       "    .dataframe thead th {\n",
       "        text-align: right;\n",
       "    }\n",
       "</style>\n",
       "<table border=\"1\" class=\"dataframe\">\n",
       "  <thead>\n",
       "    <tr style=\"text-align: right;\">\n",
       "      <th></th>\n",
       "      <th>birth_date</th>\n",
       "      <th>purchase_price</th>\n",
       "      <th>slaughter_date</th>\n",
       "      <th>slaughter_weight</th>\n",
       "      <th>slaughter_age</th>\n",
       "      <th>sale_price</th>\n",
       "      <th>breed</th>\n",
       "      <th>meds</th>\n",
       "      <th>9</th>\n",
       "    </tr>\n",
       "    <tr>\n",
       "      <th>ID</th>\n",
       "      <th></th>\n",
       "      <th></th>\n",
       "      <th></th>\n",
       "      <th></th>\n",
       "      <th></th>\n",
       "      <th></th>\n",
       "      <th></th>\n",
       "      <th></th>\n",
       "      <th></th>\n",
       "    </tr>\n",
       "  </thead>\n",
       "  <tbody>\n",
       "    <tr>\n",
       "      <th>1</th>\n",
       "      <td>2020-11-06</td>\n",
       "      <td>500</td>\n",
       "      <td>2021-03-14</td>\n",
       "      <td>53.75</td>\n",
       "      <td>128.0</td>\n",
       "      <td>2100.0</td>\n",
       "      <td>n</td>\n",
       "      <td>10</td>\n",
       "      <td>NaN</td>\n",
       "    </tr>\n",
       "    <tr>\n",
       "      <th>2</th>\n",
       "      <td>2021-02-20</td>\n",
       "      <td>600</td>\n",
       "      <td>2021-06-27</td>\n",
       "      <td>54.00</td>\n",
       "      <td>127.0</td>\n",
       "      <td>2700.0</td>\n",
       "      <td>m</td>\n",
       "      <td>10</td>\n",
       "      <td>NaN</td>\n",
       "    </tr>\n",
       "    <tr>\n",
       "      <th>3</th>\n",
       "      <td>2021-02-20</td>\n",
       "      <td>600</td>\n",
       "      <td>2021-07-17</td>\n",
       "      <td>56.00</td>\n",
       "      <td>149.0</td>\n",
       "      <td>2800.0</td>\n",
       "      <td>m</td>\n",
       "      <td>30</td>\n",
       "      <td>NaN</td>\n",
       "    </tr>\n",
       "  </tbody>\n",
       "</table>\n",
       "</div>"
      ]
     },
     "metadata": {},
     "execution_count": 5
    }
   ],
   "metadata": {}
  },
  {
   "cell_type": "markdown",
   "source": [
    "## Mass - age graph"
   ],
   "metadata": {}
  },
  {
   "cell_type": "code",
   "execution_count": 6,
   "source": [
    "\"\"\" px.scatter(x=df_slaughtered.slaughter_age,\n",
    "        y=df_slaughtered.slaughter_weight,\n",
    "        title='Mass Against Age',\n",
    "        labels={'x':'Age(days)', 'y':'Mass(Kg)'}\n",
    "        ) \"\"\"\n",
    "\n",
    "\"\"\" df_slaughtered.plot(kind= 'scatter',\n",
    "        x= 'slaughter_age',\n",
    "        y= 'slaughter_weight') \"\"\"\n",
    "\n",
    "plt.scatter(x=df_slaughtered.slaughter_age,\n",
    "        y=df_slaughtered.slaughter_weight,\n",
    "        )\n",
    "plt.xlabel(\"Slaughter Age\")\n",
    "plt.ylabel(\"Slaughter Mass\")\n",
    "plt.title(\"Mass-Age Graph\")"
   ],
   "outputs": [
    {
     "output_type": "execute_result",
     "data": {
      "text/plain": [
       "Text(0.5, 1.0, 'Mass-Age Graph')"
      ]
     },
     "metadata": {},
     "execution_count": 6
    },
    {
     "output_type": "display_data",
     "data": {
      "text/plain": [
       "<Figure size 432x288 with 1 Axes>"
      ],
      "image/png": "[encoded data removed]"
     },
     "metadata": {
      "needs_background": "light"
     }
    }
   ],
   "metadata": {}
  },
  {
   "cell_type": "markdown",
   "source": [
    "## correlation and them\n"
   ],
   "metadata": {}
  },
  {
   "cell_type": "code",
   "execution_count": 7,
   "source": [
    "# correlation of age and mass\n",
    "\n",
    "np.cov(df_slaughtered.slaughter_age, df_slaughtered.slaughter_weight)[0,1] / (np.std(df.slaughter_weight[:3], ddof=1) * np.std(df.slaughter_age[:3], ddof=1))\n"
   ],
   "outputs": [
    {
     "output_type": "execute_result",
     "data": {
      "text/plain": [
       "0.9899641382093995"
      ]
     },
     "metadata": {},
     "execution_count": 7
    }
   ],
   "metadata": {}
  },
  {
   "cell_type": "code",
   "execution_count": 8,
   "source": [
    "# easier way\n",
    "\n",
    "r, p = stats.pearsonr(\n",
    "    df_slaughtered.slaughter_age[:3],\n",
    "    df_slaughtered.slaughter_weight[:3]\n",
    ")\n",
    "corr = df_slaughtered.corr()\n",
    "r # Pearson correlation coefficient"
   ],
   "outputs": [
    {
     "output_type": "execute_result",
     "data": {
      "text/plain": [
       "0.9899641382093992"
      ]
     },
     "metadata": {},
     "execution_count": 8
    }
   ],
   "metadata": {}
  },
  {
   "cell_type": "code",
   "execution_count": 9,
   "source": [
    "plt.figure(figsize=(9,9))\n",
    "p = sns.heatmap(corr, square=True, cmap='plasma')\n",
    "p.set_title('Correlation Plot')"
   ],
   "outputs": [
    {
     "output_type": "execute_result",
     "data": {
      "text/plain": [
       "Text(0.5, 1, 'Correlation Plot')"
      ]
     },
     "metadata": {},
     "execution_count": 9
    },
    {
     "output_type": "display_data",
     "data": {
      "text/plain": [
       "<Figure size 648x648 with 2 Axes>"
      ],
      "image/png": "[encoded data removed]"
     },
     "metadata": {
      "needs_background": "light"
     }
    }
   ],
   "metadata": {}
  },
  {
   "cell_type": "code",
   "execution_count": null,
   "source": [],
   "outputs": [],
   "metadata": {}
  },
  {
   "cell_type": "markdown",
   "source": [
    "## Line of best fit (regression)"
   ],
   "metadata": {}
  },
  {
   "cell_type": "code",
   "execution_count": 10,
   "source": [
    "plt = sns.regplot(df_slaughtered.slaughter_age,df_slaughtered.slaughter_weight)"
   ],
   "outputs": [
    {
     "output_type": "stream",
     "name": "stderr",
     "text": [
      "/home/bayanda/.local/lib/python3.8/site-packages/seaborn/_decorators.py:36: FutureWarning: Pass the following variables as keyword args: x, y. From version 0.12, the only valid positional argument will be `data`, and passing other arguments without an explicit keyword will result in an error or misinterpretation.\n",
      "  warnings.warn(\n"
     ]
    },
    {
     "output_type": "display_data",
     "data": {
      "text/plain": [
       "<Figure size 432x288 with 1 Axes>"
      ],
      "image/png": "[encoded data removed]"
     },
     "metadata": {
      "needs_background": "light"
     }
    }
   ],
   "metadata": {}
  },
  {
   "cell_type": "code",
   "execution_count": null,
   "source": [],
   "outputs": [],
   "metadata": {}
  },
  {
   "cell_type": "markdown",
   "source": [
    "## decision tree model"
   ],
   "metadata": {}
  },
  {
   "cell_type": "code",
   "execution_count": 11,
   "source": [
    "from sklearn.tree import DecisionTreeRegressor\n",
    "\n",
    "\n",
    "# Our target\n",
    "y = df_slaughtered.slaughter_age\n",
    "\n",
    "# Our features\n",
    "features = ['slaughter_weight', 'meds']\n",
    "X = df_slaughtered[features]\n",
    "\n",
    "train_X, val_X, train_y, val_y = train_test_split(X, y, random_state=1)"
   ],
   "outputs": [],
   "metadata": {}
  },
  {
   "cell_type": "code",
   "execution_count": 12,
   "source": [
    "# calling model\n",
    "age_model = DecisionTreeRegressor(random_state=1)\n",
    "\n",
    "# fitting data into model\n",
    "age_model.fit(train_X,train_y)"
   ],
   "outputs": [
    {
     "output_type": "execute_result",
     "data": {
      "text/plain": [
       "DecisionTreeRegressor(random_state=1)"
      ]
     },
     "metadata": {},
     "execution_count": 12
    }
   ],
   "metadata": {}
  },
  {
   "cell_type": "code",
   "execution_count": 13,
   "source": [
    "# prediction\n",
    "\n",
    "age_prediction = age_model.predict(val_X)"
   ],
   "outputs": [],
   "metadata": {}
  },
  {
   "cell_type": "code",
   "execution_count": 14,
   "source": [
    "print('prediction:\\n', age_prediction)\n",
    "\n",
    "print('real:\\n',val_y)"
   ],
   "outputs": [
    {
     "output_type": "stream",
     "name": "stdout",
     "text": [
      "prediction:\n",
      " [127.]\n",
      "real:\n",
      " ID\n",
      "1    128.0\n",
      "Name: slaughter_age, dtype: float64\n"
     ]
    }
   ],
   "metadata": {}
  },
  {
   "cell_type": "markdown",
   "source": [
    "## random forest"
   ],
   "metadata": {}
  },
  {
   "cell_type": "code",
   "execution_count": 32,
   "source": [
    "from sklearn.ensemble import RandomForestRegressor\n",
    "\n",
    "\n",
    "# Our target\n",
    "y = df_slaughtered.slaughter_age\n",
    "\n",
    "# Our features\n",
    "features = ['slaughter_weight', 'meds']\n",
    "X = df_slaughtered[features]\n",
    "\n",
    "train_X, val_X, train_y, val_y = train_test_split(X, y, random_state=1)"
   ],
   "outputs": [],
   "metadata": {}
  },
  {
   "cell_type": "code",
   "execution_count": 33,
   "source": [
    "# calling model\n",
    "rf_age_model = RandomForestRegressor(random_state=1)\n",
    "\n",
    "# fitting data into model\n",
    "rf_age_model.fit(train_X,train_y)"
   ],
   "outputs": [
    {
     "output_type": "execute_result",
     "data": {
      "text/plain": [
       "RandomForestRegressor(random_state=1)"
      ]
     },
     "metadata": {},
     "execution_count": 33
    }
   ],
   "metadata": {}
  },
  {
   "cell_type": "code",
   "execution_count": 34,
   "source": [
    "# prediction\n",
    "\n",
    "rf_age_prediction = age_model.predict(val_X)"
   ],
   "outputs": [],
   "metadata": {}
  },
  {
   "cell_type": "code",
   "execution_count": 35,
   "source": [
    "print('prediction:\\n', rf_age_prediction)\n",
    "\n",
    "print('real:\\n',val_y)"
   ],
   "outputs": [
    {
     "output_type": "stream",
     "name": "stdout",
     "text": [
      "prediction:\n",
      " [133.6]\n",
      "real:\n",
      " ID\n",
      "1    128.0\n",
      "Name: slaughter_age, dtype: float64\n"
     ]
    }
   ],
   "metadata": {}
  },
  {
   "cell_type": "code",
   "execution_count": null,
   "source": [],
   "outputs": [],
   "metadata": {}
  },
  {
   "cell_type": "markdown",
   "source": [
    "## XGBoost"
   ],
   "metadata": {}
  },
  {
   "cell_type": "code",
   "execution_count": 36,
   "source": [
    "from xgboost import XGBRegressor\n",
    "\n",
    "xg_model = XGBRegressor(random_state=1)\n",
    "xg_model.fit(train_X, train_y)\n",
    "\n",
    "xg_age_prediction = xg_model.predict(val_X)\n",
    "\n",
    "\n",
    "print('prediction:\\n', xg_age_prediction)\n",
    "\n",
    "print('real:\\n',val_y)\n"
   ],
   "outputs": [
    {
     "output_type": "stream",
     "name": "stdout",
     "text": [
      "prediction:\n",
      " [127.0009]\n",
      "real:\n",
      " ID\n",
      "1    128.0\n",
      "Name: slaughter_age, dtype: float64\n"
     ]
    }
   ],
   "metadata": {}
  }
 ],
 "metadata": {
  "orig_nbformat": 4,
  "language_info": {
   "name": "python",
   "version": "3.8.10",
   "mimetype": "text/x-python",
   "codemirror_mode": {
    "name": "ipython",
    "version": 3
   },
   "pygments_lexer": "ipython3",
   "nbconvert_exporter": "python",
   "file_extension": ".py"
  },
  "kernelspec": {
   "name": "python3",
   "display_name": "Python 3.8.10 64-bit"
  },
  "interpreter": {
   "hash": "31f2aee4e71d21fbe5cf8b01ff0e069b9275f58929596ceb00d14d90e3e16cd6"
  }
 },
 "nbformat": 4,
 "nbformat_minor": 2
}