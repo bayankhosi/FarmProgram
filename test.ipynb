{
 "cells": [
  {
   "cell_type": "markdown",
   "source": [
    "## Importing Libraries"
   ],
   "metadata": {}
  },
  {
   "cell_type": "code",
   "execution_count": 28,
   "source": [
    "import numpy as np\n",
    "import pandas as pd\n",
    "\n",
    "from sklearn.model_selection import train_test_split\n",
    "from scipy import stats\n",
    "from plotly import express as px\n",
    "import matplotlib.pyplot as plt\n",
    "import seaborn as sns\n",
    "\n",
    "import datetime as dt\n",
    "\n",
    "today = dt.datetime.today()"
   ],
   "outputs": [],
   "metadata": {}
  },
  {
   "cell_type": "markdown",
   "source": [
    "## Importing the Tables"
   ],
   "metadata": {}
  },
  {
   "cell_type": "code",
   "execution_count": 29,
   "source": [
    "df = pd.read_excel('./Files/spread.xlsx', \n",
    "                   sheet_name= 'individual',\n",
    "                   index_col=0).drop([9, 'purchase_price', 'sale_price'], axis=1)\n",
    "\n",
    "df_month = pd.read_excel('./Files/spread.xlsx', \n",
    "                         sheet_name= '2021')"
   ],
   "outputs": [],
   "metadata": {}
  },
  {
   "cell_type": "code",
   "execution_count": 30,
   "source": [
    "# sorting catagorical values\n",
    "\n",
    "cat_cols = ['breed']\n",
    "df = pd.get_dummies(data = df, columns = cat_cols)\n",
    "df\n",
    "\n",
    "df"
   ],
   "outputs": [
    {
     "output_type": "execute_result",
     "data": {
      "text/html": [
       "<div>\n",
       "<style scoped>\n",
       "    .dataframe tbody tr th:only-of-type {\n",
       "        vertical-align: middle;\n",
       "    }\n",
       "\n",
       "    .dataframe tbody tr th {\n",
       "        vertical-align: top;\n",
       "    }\n",
       "\n",
       "    .dataframe thead th {\n",
       "        text-align: right;\n",
       "    }\n",
       "</style>\n",
       "<table border=\"1\" class=\"dataframe\">\n",
       "  <thead>\n",
       "    <tr style=\"text-align: right;\">\n",
       "      <th></th>\n",
       "      <th>birth_date</th>\n",
       "      <th>slaughter_date</th>\n",
       "      <th>slaughter_weight</th>\n",
       "      <th>slaughter_age</th>\n",
       "      <th>meds</th>\n",
       "      <th>breed_m</th>\n",
       "      <th>breed_n</th>\n",
       "      <th>breed_t</th>\n",
       "    </tr>\n",
       "    <tr>\n",
       "      <th>ID</th>\n",
       "      <th></th>\n",
       "      <th></th>\n",
       "      <th></th>\n",
       "      <th></th>\n",
       "      <th></th>\n",
       "      <th></th>\n",
       "      <th></th>\n",
       "      <th></th>\n",
       "    </tr>\n",
       "  </thead>\n",
       "  <tbody>\n",
       "    <tr>\n",
       "      <th>1</th>\n",
       "      <td>2020-11-06</td>\n",
       "      <td>2021-03-14</td>\n",
       "      <td>53.75</td>\n",
       "      <td>128.0</td>\n",
       "      <td>10</td>\n",
       "      <td>0</td>\n",
       "      <td>1</td>\n",
       "      <td>0</td>\n",
       "    </tr>\n",
       "    <tr>\n",
       "      <th>2</th>\n",
       "      <td>2021-02-20</td>\n",
       "      <td>2021-06-27</td>\n",
       "      <td>54.00</td>\n",
       "      <td>127.0</td>\n",
       "      <td>10</td>\n",
       "      <td>1</td>\n",
       "      <td>0</td>\n",
       "      <td>0</td>\n",
       "    </tr>\n",
       "    <tr>\n",
       "      <th>3</th>\n",
       "      <td>2021-02-20</td>\n",
       "      <td>2021-07-17</td>\n",
       "      <td>56.00</td>\n",
       "      <td>149.0</td>\n",
       "      <td>30</td>\n",
       "      <td>1</td>\n",
       "      <td>0</td>\n",
       "      <td>0</td>\n",
       "    </tr>\n",
       "    <tr>\n",
       "      <th>4</th>\n",
       "      <td>2021-05-07</td>\n",
       "      <td>2021-08-31</td>\n",
       "      <td>58.00</td>\n",
       "      <td>114.0</td>\n",
       "      <td>0</td>\n",
       "      <td>0</td>\n",
       "      <td>0</td>\n",
       "      <td>1</td>\n",
       "    </tr>\n",
       "    <tr>\n",
       "      <th>5</th>\n",
       "      <td>2021-05-07</td>\n",
       "      <td>2021-09-06</td>\n",
       "      <td>59.00</td>\n",
       "      <td>122.0</td>\n",
       "      <td>0</td>\n",
       "      <td>0</td>\n",
       "      <td>0</td>\n",
       "      <td>1</td>\n",
       "    </tr>\n",
       "    <tr>\n",
       "      <th>6</th>\n",
       "      <td>2021-06-21</td>\n",
       "      <td>NaT</td>\n",
       "      <td>NaN</td>\n",
       "      <td>NaN</td>\n",
       "      <td>10</td>\n",
       "      <td>0</td>\n",
       "      <td>1</td>\n",
       "      <td>0</td>\n",
       "    </tr>\n",
       "    <tr>\n",
       "      <th>7</th>\n",
       "      <td>2021-06-21</td>\n",
       "      <td>NaT</td>\n",
       "      <td>NaN</td>\n",
       "      <td>NaN</td>\n",
       "      <td>40</td>\n",
       "      <td>0</td>\n",
       "      <td>1</td>\n",
       "      <td>0</td>\n",
       "    </tr>\n",
       "    <tr>\n",
       "      <th>8</th>\n",
       "      <td>2021-06-21</td>\n",
       "      <td>NaT</td>\n",
       "      <td>NaN</td>\n",
       "      <td>NaN</td>\n",
       "      <td>10</td>\n",
       "      <td>0</td>\n",
       "      <td>1</td>\n",
       "      <td>0</td>\n",
       "    </tr>\n",
       "    <tr>\n",
       "      <th>9</th>\n",
       "      <td>2021-06-21</td>\n",
       "      <td>NaT</td>\n",
       "      <td>NaN</td>\n",
       "      <td>NaN</td>\n",
       "      <td>10</td>\n",
       "      <td>0</td>\n",
       "      <td>1</td>\n",
       "      <td>0</td>\n",
       "    </tr>\n",
       "  </tbody>\n",
       "</table>\n",
       "</div>"
      ],
      "text/plain": [
       "   birth_date slaughter_date  slaughter_weight  slaughter_age  meds  breed_m  \\\n",
       "ID                                                                             \n",
       "1  2020-11-06     2021-03-14             53.75          128.0    10        0   \n",
       "2  2021-02-20     2021-06-27             54.00          127.0    10        1   \n",
       "3  2021-02-20     2021-07-17             56.00          149.0    30        1   \n",
       "4  2021-05-07     2021-08-31             58.00          114.0     0        0   \n",
       "5  2021-05-07     2021-09-06             59.00          122.0     0        0   \n",
       "6  2021-06-21            NaT               NaN            NaN    10        0   \n",
       "7  2021-06-21            NaT               NaN            NaN    40        0   \n",
       "8  2021-06-21            NaT               NaN            NaN    10        0   \n",
       "9  2021-06-21            NaT               NaN            NaN    10        0   \n",
       "\n",
       "    breed_n  breed_t  \n",
       "ID                    \n",
       "1         1        0  \n",
       "2         0        0  \n",
       "3         0        0  \n",
       "4         0        1  \n",
       "5         0        1  \n",
       "6         1        0  \n",
       "7         1        0  \n",
       "8         1        0  \n",
       "9         1        0  "
      ]
     },
     "metadata": {},
     "execution_count": 30
    }
   ],
   "metadata": {}
  },
  {
   "cell_type": "code",
   "execution_count": 31,
   "source": [
    "df_alive = df.loc[df.slaughter_date.isnull()==True]\n",
    "df_alive = df_alive.drop(['slaughter_date', 'slaughter_weight', 'slaughter_age'], axis=1)\n",
    "#df_alive['slaughter_estimate'] = df.birth_date + dt.timedelta(days=99) \n",
    "\n",
    "df_alive"
   ],
   "outputs": [
    {
     "output_type": "execute_result",
     "data": {
      "text/html": [
       "<div>\n",
       "<style scoped>\n",
       "    .dataframe tbody tr th:only-of-type {\n",
       "        vertical-align: middle;\n",
       "    }\n",
       "\n",
       "    .dataframe tbody tr th {\n",
       "        vertical-align: top;\n",
       "    }\n",
       "\n",
       "    .dataframe thead th {\n",
       "        text-align: right;\n",
       "    }\n",
       "</style>\n",
       "<table border=\"1\" class=\"dataframe\">\n",
       "  <thead>\n",
       "    <tr style=\"text-align: right;\">\n",
       "      <th></th>\n",
       "      <th>birth_date</th>\n",
       "      <th>meds</th>\n",
       "      <th>breed_m</th>\n",
       "      <th>breed_n</th>\n",
       "      <th>breed_t</th>\n",
       "    </tr>\n",
       "    <tr>\n",
       "      <th>ID</th>\n",
       "      <th></th>\n",
       "      <th></th>\n",
       "      <th></th>\n",
       "      <th></th>\n",
       "      <th></th>\n",
       "    </tr>\n",
       "  </thead>\n",
       "  <tbody>\n",
       "    <tr>\n",
       "      <th>6</th>\n",
       "      <td>2021-06-21</td>\n",
       "      <td>10</td>\n",
       "      <td>0</td>\n",
       "      <td>1</td>\n",
       "      <td>0</td>\n",
       "    </tr>\n",
       "    <tr>\n",
       "      <th>7</th>\n",
       "      <td>2021-06-21</td>\n",
       "      <td>40</td>\n",
       "      <td>0</td>\n",
       "      <td>1</td>\n",
       "      <td>0</td>\n",
       "    </tr>\n",
       "    <tr>\n",
       "      <th>8</th>\n",
       "      <td>2021-06-21</td>\n",
       "      <td>10</td>\n",
       "      <td>0</td>\n",
       "      <td>1</td>\n",
       "      <td>0</td>\n",
       "    </tr>\n",
       "    <tr>\n",
       "      <th>9</th>\n",
       "      <td>2021-06-21</td>\n",
       "      <td>10</td>\n",
       "      <td>0</td>\n",
       "      <td>1</td>\n",
       "      <td>0</td>\n",
       "    </tr>\n",
       "  </tbody>\n",
       "</table>\n",
       "</div>"
      ],
      "text/plain": [
       "   birth_date  meds  breed_m  breed_n  breed_t\n",
       "ID                                            \n",
       "6  2021-06-21    10        0        1        0\n",
       "7  2021-06-21    40        0        1        0\n",
       "8  2021-06-21    10        0        1        0\n",
       "9  2021-06-21    10        0        1        0"
      ]
     },
     "metadata": {},
     "execution_count": 31
    }
   ],
   "metadata": {}
  },
  {
   "cell_type": "code",
   "execution_count": 32,
   "source": [
    "df_slaughtered = df.loc[df.slaughter_date.isnull()==False]\n",
    "\n",
    "df_slaughtered"
   ],
   "outputs": [
    {
     "output_type": "execute_result",
     "data": {
      "text/html": [
       "<div>\n",
       "<style scoped>\n",
       "    .dataframe tbody tr th:only-of-type {\n",
       "        vertical-align: middle;\n",
       "    }\n",
       "\n",
       "    .dataframe tbody tr th {\n",
       "        vertical-align: top;\n",
       "    }\n",
       "\n",
       "    .dataframe thead th {\n",
       "        text-align: right;\n",
       "    }\n",
       "</style>\n",
       "<table border=\"1\" class=\"dataframe\">\n",
       "  <thead>\n",
       "    <tr style=\"text-align: right;\">\n",
       "      <th></th>\n",
       "      <th>birth_date</th>\n",
       "      <th>slaughter_date</th>\n",
       "      <th>slaughter_weight</th>\n",
       "      <th>slaughter_age</th>\n",
       "      <th>meds</th>\n",
       "      <th>breed_m</th>\n",
       "      <th>breed_n</th>\n",
       "      <th>breed_t</th>\n",
       "    </tr>\n",
       "    <tr>\n",
       "      <th>ID</th>\n",
       "      <th></th>\n",
       "      <th></th>\n",
       "      <th></th>\n",
       "      <th></th>\n",
       "      <th></th>\n",
       "      <th></th>\n",
       "      <th></th>\n",
       "      <th></th>\n",
       "    </tr>\n",
       "  </thead>\n",
       "  <tbody>\n",
       "    <tr>\n",
       "      <th>1</th>\n",
       "      <td>2020-11-06</td>\n",
       "      <td>2021-03-14</td>\n",
       "      <td>53.75</td>\n",
       "      <td>128.0</td>\n",
       "      <td>10</td>\n",
       "      <td>0</td>\n",
       "      <td>1</td>\n",
       "      <td>0</td>\n",
       "    </tr>\n",
       "    <tr>\n",
       "      <th>2</th>\n",
       "      <td>2021-02-20</td>\n",
       "      <td>2021-06-27</td>\n",
       "      <td>54.00</td>\n",
       "      <td>127.0</td>\n",
       "      <td>10</td>\n",
       "      <td>1</td>\n",
       "      <td>0</td>\n",
       "      <td>0</td>\n",
       "    </tr>\n",
       "    <tr>\n",
       "      <th>3</th>\n",
       "      <td>2021-02-20</td>\n",
       "      <td>2021-07-17</td>\n",
       "      <td>56.00</td>\n",
       "      <td>149.0</td>\n",
       "      <td>30</td>\n",
       "      <td>1</td>\n",
       "      <td>0</td>\n",
       "      <td>0</td>\n",
       "    </tr>\n",
       "    <tr>\n",
       "      <th>4</th>\n",
       "      <td>2021-05-07</td>\n",
       "      <td>2021-08-31</td>\n",
       "      <td>58.00</td>\n",
       "      <td>114.0</td>\n",
       "      <td>0</td>\n",
       "      <td>0</td>\n",
       "      <td>0</td>\n",
       "      <td>1</td>\n",
       "    </tr>\n",
       "    <tr>\n",
       "      <th>5</th>\n",
       "      <td>2021-05-07</td>\n",
       "      <td>2021-09-06</td>\n",
       "      <td>59.00</td>\n",
       "      <td>122.0</td>\n",
       "      <td>0</td>\n",
       "      <td>0</td>\n",
       "      <td>0</td>\n",
       "      <td>1</td>\n",
       "    </tr>\n",
       "  </tbody>\n",
       "</table>\n",
       "</div>"
      ],
      "text/plain": [
       "   birth_date slaughter_date  slaughter_weight  slaughter_age  meds  breed_m  \\\n",
       "ID                                                                             \n",
       "1  2020-11-06     2021-03-14             53.75          128.0    10        0   \n",
       "2  2021-02-20     2021-06-27             54.00          127.0    10        1   \n",
       "3  2021-02-20     2021-07-17             56.00          149.0    30        1   \n",
       "4  2021-05-07     2021-08-31             58.00          114.0     0        0   \n",
       "5  2021-05-07     2021-09-06             59.00          122.0     0        0   \n",
       "\n",
       "    breed_n  breed_t  \n",
       "ID                    \n",
       "1         1        0  \n",
       "2         0        0  \n",
       "3         0        0  \n",
       "4         0        1  \n",
       "5         0        1  "
      ]
     },
     "metadata": {},
     "execution_count": 32
    }
   ],
   "metadata": {}
  },
  {
   "cell_type": "markdown",
   "source": [
    "# Visualization"
   ],
   "metadata": {}
  },
  {
   "cell_type": "markdown",
   "source": [
    "## Mass - age graph"
   ],
   "metadata": {}
  },
  {
   "cell_type": "code",
   "execution_count": 33,
   "source": [
    "\"\"\" px.scatter(x=df_slaughtered.slaughter_age,\n",
    "        y=df_slaughtered.slaughter_weight,\n",
    "        title='Mass Against Age',\n",
    "        labels={'x':'Age(days)', 'y':'Mass(Kg)'}\n",
    "        ) \"\"\"\n",
    "\n",
    "\"\"\" df_slaughtered.plot(kind= 'scatter',\n",
    "        x= 'slaughter_age',\n",
    "        y= 'slaughter_weight') \"\"\"\n",
    "\n",
    "plt.scatter(x=df_slaughtered.slaughter_age,\n",
    "        y=df_slaughtered.slaughter_weight,\n",
    "        )\n",
    "plt.xlabel(\"Slaughter Age\")\n",
    "plt.ylabel(\"Slaughter Mass\")\n",
    "plt.title(\"Mass-Age Graph\")"
   ],
   "outputs": [
    {
     "output_type": "execute_result",
     "data": {
      "text/plain": [
       "Text(0.5, 1.0, 'Mass-Age Graph')"
      ]
     },
     "metadata": {},
     "execution_count": 33
    },
    {
     "output_type": "display_data",
     "data": {
      "image/png": "[encoded data removed]",
      "text/plain": [
       "<Figure size 432x288 with 1 Axes>"
      ]
     },
     "metadata": {
      "needs_background": "light"
     }
    }
   ],
   "metadata": {}
  },
  {
   "cell_type": "markdown",
   "source": [
    "## correlation and them\n"
   ],
   "metadata": {}
  },
  {
   "cell_type": "code",
   "execution_count": 34,
   "source": [
    "# correlation of age and mass\n",
    "\n",
    "np.cov(df_slaughtered.slaughter_age, df_slaughtered.slaughter_weight)[0,1] / (np.std(df.slaughter_weight[:3], ddof=1) * np.std(df.slaughter_age[:3], ddof=1))\n"
   ],
   "outputs": [
    {
     "output_type": "execute_result",
     "data": {
      "text/plain": [
       "-0.7179959683716524"
      ]
     },
     "metadata": {},
     "execution_count": 34
    }
   ],
   "metadata": {}
  },
  {
   "cell_type": "code",
   "execution_count": 35,
   "source": [
    "# easier way\n",
    "\n",
    "r, p = stats.pearsonr(\n",
    "    df_slaughtered.slaughter_age[:3],\n",
    "    df_slaughtered.slaughter_weight[:3]\n",
    ")\n",
    "corr = df_slaughtered.corr()\n",
    "r # Pearson correlation coefficient"
   ],
   "outputs": [
    {
     "output_type": "execute_result",
     "data": {
      "text/plain": [
       "0.9899641382093992"
      ]
     },
     "metadata": {},
     "execution_count": 35
    }
   ],
   "metadata": {}
  },
  {
   "cell_type": "code",
   "execution_count": 36,
   "source": [
    "plt.figure(figsize=(9,9))\n",
    "p = sns.heatmap(corr, square=True, cmap='plasma')\n",
    "p.set_title('Correlation Plot')"
   ],
   "outputs": [
    {
     "output_type": "execute_result",
     "data": {
      "text/plain": [
       "Text(0.5, 1, 'Correlation Plot')"
      ]
     },
     "metadata": {},
     "execution_count": 36
    },
    {
     "output_type": "display_data",
     "data": {
      "image/png": "[encoded data removed]",
      "text/plain": [
       "<Figure size 648x648 with 2 Axes>"
      ]
     },
     "metadata": {
      "needs_background": "light"
     }
    }
   ],
   "metadata": {}
  },
  {
   "cell_type": "code",
   "execution_count": null,
   "source": [],
   "outputs": [],
   "metadata": {}
  },
  {
   "cell_type": "markdown",
   "source": [
    "## Line of best fit (regression)"
   ],
   "metadata": {}
  },
  {
   "cell_type": "code",
   "execution_count": 37,
   "source": [
    "plt = sns.regplot(df_slaughtered.slaughter_age,df_slaughtered.slaughter_weight)"
   ],
   "outputs": [
    {
     "output_type": "stream",
     "name": "stderr",
     "text": [
      "/home/bayanda/.local/lib/python3.8/site-packages/seaborn/_decorators.py:36: FutureWarning: Pass the following variables as keyword args: x, y. From version 0.12, the only valid positional argument will be `data`, and passing other arguments without an explicit keyword will result in an error or misinterpretation.\n",
      "  warnings.warn(\n"
     ]
    },
    {
     "output_type": "display_data",
     "data": {
      "image/png": "[encoded data removed]",
      "text/plain": [
       "<Figure size 432x288 with 1 Axes>"
      ]
     },
     "metadata": {
      "needs_background": "light"
     }
    }
   ],
   "metadata": {}
  },
  {
   "cell_type": "markdown",
   "source": [
    "# Models"
   ],
   "metadata": {}
  },
  {
   "cell_type": "markdown",
   "source": [
    "## decision tree model"
   ],
   "metadata": {}
  },
  {
   "cell_type": "code",
   "execution_count": 38,
   "source": [
    "from sklearn.tree import DecisionTreeRegressor\n",
    "\n",
    "\n",
    "# Our target\n",
    "y = df_slaughtered.slaughter_age\n",
    "\n",
    "# Our features\n",
    "features = ['slaughter_weight', 'meds', 'breed_t', 'breed_n', 'breed_m']\n",
    "X = df_slaughtered[features]\n",
    "\n",
    "train_X, val_X, train_y, val_y = train_test_split(X, y, random_state=1)"
   ],
   "outputs": [],
   "metadata": {}
  },
  {
   "cell_type": "code",
   "execution_count": 39,
   "source": [
    "# calling model\n",
    "age_model = DecisionTreeRegressor(random_state=1)\n",
    "\n",
    "# fitting data into model\n",
    "age_model.fit(train_X,train_y)"
   ],
   "outputs": [
    {
     "output_type": "execute_result",
     "data": {
      "text/plain": [
       "DecisionTreeRegressor(random_state=1)"
      ]
     },
     "metadata": {},
     "execution_count": 39
    }
   ],
   "metadata": {}
  },
  {
   "cell_type": "code",
   "execution_count": 40,
   "source": [
    "# prediction\n",
    "\n",
    "age_prediction = age_model.predict(val_X)"
   ],
   "outputs": [],
   "metadata": {}
  },
  {
   "cell_type": "code",
   "execution_count": 41,
   "source": [
    "print('prediction:\\n', age_prediction)\n",
    "\n",
    "print('real:\\n',val_y)"
   ],
   "outputs": [
    {
     "output_type": "stream",
     "name": "stdout",
     "text": [
      "prediction:\n",
      " [128. 128.]\n",
      "real:\n",
      " ID\n",
      "3    149.0\n",
      "2    127.0\n",
      "Name: slaughter_age, dtype: float64\n"
     ]
    }
   ],
   "metadata": {}
  },
  {
   "cell_type": "markdown",
   "source": [
    "## random forest"
   ],
   "metadata": {}
  },
  {
   "cell_type": "code",
   "execution_count": 42,
   "source": [
    "df_slaughtered"
   ],
   "outputs": [
    {
     "output_type": "execute_result",
     "data": {
      "text/html": [
       "<div>\n",
       "<style scoped>\n",
       "    .dataframe tbody tr th:only-of-type {\n",
       "        vertical-align: middle;\n",
       "    }\n",
       "\n",
       "    .dataframe tbody tr th {\n",
       "        vertical-align: top;\n",
       "    }\n",
       "\n",
       "    .dataframe thead th {\n",
       "        text-align: right;\n",
       "    }\n",
       "</style>\n",
       "<table border=\"1\" class=\"dataframe\">\n",
       "  <thead>\n",
       "    <tr style=\"text-align: right;\">\n",
       "      <th></th>\n",
       "      <th>birth_date</th>\n",
       "      <th>slaughter_date</th>\n",
       "      <th>slaughter_weight</th>\n",
       "      <th>slaughter_age</th>\n",
       "      <th>meds</th>\n",
       "      <th>breed_m</th>\n",
       "      <th>breed_n</th>\n",
       "      <th>breed_t</th>\n",
       "    </tr>\n",
       "    <tr>\n",
       "      <th>ID</th>\n",
       "      <th></th>\n",
       "      <th></th>\n",
       "      <th></th>\n",
       "      <th></th>\n",
       "      <th></th>\n",
       "      <th></th>\n",
       "      <th></th>\n",
       "      <th></th>\n",
       "    </tr>\n",
       "  </thead>\n",
       "  <tbody>\n",
       "    <tr>\n",
       "      <th>1</th>\n",
       "      <td>2020-11-06</td>\n",
       "      <td>2021-03-14</td>\n",
       "      <td>53.75</td>\n",
       "      <td>128.0</td>\n",
       "      <td>10</td>\n",
       "      <td>0</td>\n",
       "      <td>1</td>\n",
       "      <td>0</td>\n",
       "    </tr>\n",
       "    <tr>\n",
       "      <th>2</th>\n",
       "      <td>2021-02-20</td>\n",
       "      <td>2021-06-27</td>\n",
       "      <td>54.00</td>\n",
       "      <td>127.0</td>\n",
       "      <td>10</td>\n",
       "      <td>1</td>\n",
       "      <td>0</td>\n",
       "      <td>0</td>\n",
       "    </tr>\n",
       "    <tr>\n",
       "      <th>3</th>\n",
       "      <td>2021-02-20</td>\n",
       "      <td>2021-07-17</td>\n",
       "      <td>56.00</td>\n",
       "      <td>149.0</td>\n",
       "      <td>30</td>\n",
       "      <td>1</td>\n",
       "      <td>0</td>\n",
       "      <td>0</td>\n",
       "    </tr>\n",
       "    <tr>\n",
       "      <th>4</th>\n",
       "      <td>2021-05-07</td>\n",
       "      <td>2021-08-31</td>\n",
       "      <td>58.00</td>\n",
       "      <td>114.0</td>\n",
       "      <td>0</td>\n",
       "      <td>0</td>\n",
       "      <td>0</td>\n",
       "      <td>1</td>\n",
       "    </tr>\n",
       "    <tr>\n",
       "      <th>5</th>\n",
       "      <td>2021-05-07</td>\n",
       "      <td>2021-09-06</td>\n",
       "      <td>59.00</td>\n",
       "      <td>122.0</td>\n",
       "      <td>0</td>\n",
       "      <td>0</td>\n",
       "      <td>0</td>\n",
       "      <td>1</td>\n",
       "    </tr>\n",
       "  </tbody>\n",
       "</table>\n",
       "</div>"
      ],
      "text/plain": [
       "   birth_date slaughter_date  slaughter_weight  slaughter_age  meds  breed_m  \\\n",
       "ID                                                                             \n",
       "1  2020-11-06     2021-03-14             53.75          128.0    10        0   \n",
       "2  2021-02-20     2021-06-27             54.00          127.0    10        1   \n",
       "3  2021-02-20     2021-07-17             56.00          149.0    30        1   \n",
       "4  2021-05-07     2021-08-31             58.00          114.0     0        0   \n",
       "5  2021-05-07     2021-09-06             59.00          122.0     0        0   \n",
       "\n",
       "    breed_n  breed_t  \n",
       "ID                    \n",
       "1         1        0  \n",
       "2         0        0  \n",
       "3         0        0  \n",
       "4         0        1  \n",
       "5         0        1  "
      ]
     },
     "metadata": {},
     "execution_count": 42
    }
   ],
   "metadata": {}
  },
  {
   "cell_type": "code",
   "execution_count": 43,
   "source": [
    "from sklearn.ensemble import RandomForestRegressor\n",
    "\n",
    "\n",
    "# Our target\n",
    "y = df_slaughtered.slaughter_age\n",
    "\n",
    "# Our features\n",
    "features = ['slaughter_weight', 'meds', 'breed_m', 'breed_n']\n",
    "X = df_slaughtered[features]\n",
    "\n",
    "train_X, val_X, train_y, val_y = train_test_split(X, y, random_state=1)"
   ],
   "outputs": [],
   "metadata": {}
  },
  {
   "cell_type": "code",
   "execution_count": 44,
   "source": [
    "# calling model\n",
    "rf_age_model = RandomForestRegressor(random_state=1)\n",
    "\n",
    "# fitting data into model\n",
    "rf_age_model.fit(train_X, train_y)\n"
   ],
   "outputs": [
    {
     "output_type": "execute_result",
     "data": {
      "text/plain": [
       "RandomForestRegressor(random_state=1)"
      ]
     },
     "metadata": {},
     "execution_count": 44
    }
   ],
   "metadata": {}
  },
  {
   "cell_type": "code",
   "execution_count": 45,
   "source": [
    "\"\"\" # prediction\n",
    "\n",
    "rf_age_prediction = age_model.predict(val_X) \"\"\""
   ],
   "outputs": [
    {
     "output_type": "execute_result",
     "data": {
      "text/plain": [
       "' # prediction\\n\\nrf_age_prediction = age_model.predict(val_X) '"
      ]
     },
     "metadata": {},
     "execution_count": 45
    }
   ],
   "metadata": {}
  },
  {
   "cell_type": "code",
   "execution_count": 46,
   "source": [
    "\"\"\" print('prediction:\\n', rf_age_prediction)\n",
    "\n",
    "print('real:\\n',val_y) \"\"\""
   ],
   "outputs": [
    {
     "output_type": "execute_result",
     "data": {
      "text/plain": [
       "\" print('prediction:\\n', rf_age_prediction)\\n\\nprint('real:\\n',val_y) \""
      ]
     },
     "metadata": {},
     "execution_count": 46
    }
   ],
   "metadata": {}
  },
  {
   "cell_type": "code",
   "execution_count": null,
   "source": [],
   "outputs": [],
   "metadata": {}
  },
  {
   "cell_type": "markdown",
   "source": [
    "## XGBoost"
   ],
   "metadata": {}
  },
  {
   "cell_type": "code",
   "execution_count": 47,
   "source": [
    "from xgboost import XGBRegressor\n",
    "\n",
    "xg_model = XGBRegressor(random_state=1)\n",
    "xg_model.fit(train_X, train_y)\n",
    "\n",
    "xg_age_prediction = xg_model.predict(val_X)\n",
    "\n",
    "\n",
    "print('prediction:\\n', xg_age_prediction)\n",
    "\n",
    "print('real:\\n',val_y)\n"
   ],
   "outputs": [
    {
     "output_type": "stream",
     "name": "stdout",
     "text": [
      "prediction:\n",
      " [114.00136 127.99896]\n",
      "real:\n",
      " ID\n",
      "3    149.0\n",
      "2    127.0\n",
      "Name: slaughter_age, dtype: float64\n"
     ]
    }
   ],
   "metadata": {}
  },
  {
   "cell_type": "markdown",
   "source": [
    "# Average Age"
   ],
   "metadata": {}
  },
  {
   "cell_type": "code",
   "execution_count": 48,
   "source": [
    "df_alive"
   ],
   "outputs": [
    {
     "output_type": "execute_result",
     "data": {
      "text/html": [
       "<div>\n",
       "<style scoped>\n",
       "    .dataframe tbody tr th:only-of-type {\n",
       "        vertical-align: middle;\n",
       "    }\n",
       "\n",
       "    .dataframe tbody tr th {\n",
       "        vertical-align: top;\n",
       "    }\n",
       "\n",
       "    .dataframe thead th {\n",
       "        text-align: right;\n",
       "    }\n",
       "</style>\n",
       "<table border=\"1\" class=\"dataframe\">\n",
       "  <thead>\n",
       "    <tr style=\"text-align: right;\">\n",
       "      <th></th>\n",
       "      <th>birth_date</th>\n",
       "      <th>meds</th>\n",
       "      <th>breed_m</th>\n",
       "      <th>breed_n</th>\n",
       "      <th>breed_t</th>\n",
       "    </tr>\n",
       "    <tr>\n",
       "      <th>ID</th>\n",
       "      <th></th>\n",
       "      <th></th>\n",
       "      <th></th>\n",
       "      <th></th>\n",
       "      <th></th>\n",
       "    </tr>\n",
       "  </thead>\n",
       "  <tbody>\n",
       "    <tr>\n",
       "      <th>6</th>\n",
       "      <td>2021-06-21</td>\n",
       "      <td>10</td>\n",
       "      <td>0</td>\n",
       "      <td>1</td>\n",
       "      <td>0</td>\n",
       "    </tr>\n",
       "    <tr>\n",
       "      <th>7</th>\n",
       "      <td>2021-06-21</td>\n",
       "      <td>40</td>\n",
       "      <td>0</td>\n",
       "      <td>1</td>\n",
       "      <td>0</td>\n",
       "    </tr>\n",
       "    <tr>\n",
       "      <th>8</th>\n",
       "      <td>2021-06-21</td>\n",
       "      <td>10</td>\n",
       "      <td>0</td>\n",
       "      <td>1</td>\n",
       "      <td>0</td>\n",
       "    </tr>\n",
       "    <tr>\n",
       "      <th>9</th>\n",
       "      <td>2021-06-21</td>\n",
       "      <td>10</td>\n",
       "      <td>0</td>\n",
       "      <td>1</td>\n",
       "      <td>0</td>\n",
       "    </tr>\n",
       "  </tbody>\n",
       "</table>\n",
       "</div>"
      ],
      "text/plain": [
       "   birth_date  meds  breed_m  breed_n  breed_t\n",
       "ID                                            \n",
       "6  2021-06-21    10        0        1        0\n",
       "7  2021-06-21    40        0        1        0\n",
       "8  2021-06-21    10        0        1        0\n",
       "9  2021-06-21    10        0        1        0"
      ]
     },
     "metadata": {},
     "execution_count": 48
    }
   ],
   "metadata": {}
  },
  {
   "cell_type": "code",
   "execution_count": 49,
   "source": [
    "from calendar import monthrange"
   ],
   "outputs": [],
   "metadata": {}
  },
  {
   "cell_type": "code",
   "execution_count": 50,
   "source": [
    "just = dt.date.today()\n",
    "\n",
    "day = monthrange(2021, just.month)[1]//2\n",
    "\n",
    "mid_month = just - dt.timedelta(days=just.day + day)\n",
    "\n",
    "mid_month"
   ],
   "outputs": [
    {
     "output_type": "execute_result",
     "data": {
      "text/plain": [
       "datetime.date(2021, 8, 16)"
      ]
     },
     "metadata": {},
     "execution_count": 50
    }
   ],
   "metadata": {}
  },
  {
   "cell_type": "code",
   "execution_count": 51,
   "source": [
    "df_alive['age'] = dt.datetime.fromordinal(just.toordinal()) - pd.to_datetime(df.birth_date)\n",
    "df_alive['mid_month_age'] = dt.datetime.fromordinal(mid_month.toordinal()) - pd.to_datetime(df.birth_date)\n",
    "\n",
    "avAge = df_alive.mid_month_age.mean()\n",
    "\n",
    "df_alive"
   ],
   "outputs": [
    {
     "output_type": "execute_result",
     "data": {
      "text/html": [
       "<div>\n",
       "<style scoped>\n",
       "    .dataframe tbody tr th:only-of-type {\n",
       "        vertical-align: middle;\n",
       "    }\n",
       "\n",
       "    .dataframe tbody tr th {\n",
       "        vertical-align: top;\n",
       "    }\n",
       "\n",
       "    .dataframe thead th {\n",
       "        text-align: right;\n",
       "    }\n",
       "</style>\n",
       "<table border=\"1\" class=\"dataframe\">\n",
       "  <thead>\n",
       "    <tr style=\"text-align: right;\">\n",
       "      <th></th>\n",
       "      <th>birth_date</th>\n",
       "      <th>meds</th>\n",
       "      <th>breed_m</th>\n",
       "      <th>breed_n</th>\n",
       "      <th>breed_t</th>\n",
       "      <th>age</th>\n",
       "      <th>mid_month_age</th>\n",
       "    </tr>\n",
       "    <tr>\n",
       "      <th>ID</th>\n",
       "      <th></th>\n",
       "      <th></th>\n",
       "      <th></th>\n",
       "      <th></th>\n",
       "      <th></th>\n",
       "      <th></th>\n",
       "      <th></th>\n",
       "    </tr>\n",
       "  </thead>\n",
       "  <tbody>\n",
       "    <tr>\n",
       "      <th>6</th>\n",
       "      <td>2021-06-21</td>\n",
       "      <td>10</td>\n",
       "      <td>0</td>\n",
       "      <td>1</td>\n",
       "      <td>0</td>\n",
       "      <td>84 days</td>\n",
       "      <td>56 days</td>\n",
       "    </tr>\n",
       "    <tr>\n",
       "      <th>7</th>\n",
       "      <td>2021-06-21</td>\n",
       "      <td>40</td>\n",
       "      <td>0</td>\n",
       "      <td>1</td>\n",
       "      <td>0</td>\n",
       "      <td>84 days</td>\n",
       "      <td>56 days</td>\n",
       "    </tr>\n",
       "    <tr>\n",
       "      <th>8</th>\n",
       "      <td>2021-06-21</td>\n",
       "      <td>10</td>\n",
       "      <td>0</td>\n",
       "      <td>1</td>\n",
       "      <td>0</td>\n",
       "      <td>84 days</td>\n",
       "      <td>56 days</td>\n",
       "    </tr>\n",
       "    <tr>\n",
       "      <th>9</th>\n",
       "      <td>2021-06-21</td>\n",
       "      <td>10</td>\n",
       "      <td>0</td>\n",
       "      <td>1</td>\n",
       "      <td>0</td>\n",
       "      <td>84 days</td>\n",
       "      <td>56 days</td>\n",
       "    </tr>\n",
       "  </tbody>\n",
       "</table>\n",
       "</div>"
      ],
      "text/plain": [
       "   birth_date  meds  breed_m  breed_n  breed_t     age mid_month_age\n",
       "ID                                                                  \n",
       "6  2021-06-21    10        0        1        0 84 days       56 days\n",
       "7  2021-06-21    40        0        1        0 84 days       56 days\n",
       "8  2021-06-21    10        0        1        0 84 days       56 days\n",
       "9  2021-06-21    10        0        1        0 84 days       56 days"
      ]
     },
     "metadata": {},
     "execution_count": 51
    }
   ],
   "metadata": {}
  }
 ],
 "metadata": {
  "orig_nbformat": 4,
  "language_info": {
   "name": "python",
   "version": "3.8.10",
   "mimetype": "text/x-python",
   "codemirror_mode": {
    "name": "ipython",
    "version": 3
   },
   "pygments_lexer": "ipython3",
   "nbconvert_exporter": "python",
   "file_extension": ".py"
  },
  "kernelspec": {
   "name": "python3",
   "display_name": "Python 3.8.10 64-bit"
  },
  "interpreter": {
   "hash": "31f2aee4e71d21fbe5cf8b01ff0e069b9275f58929596ceb00d14d90e3e16cd6"
  }
 },
 "nbformat": 4,
 "nbformat_minor": 2
}